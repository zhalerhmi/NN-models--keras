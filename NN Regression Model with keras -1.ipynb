{
 "cells": [
  {
   "cell_type": "code",
   "execution_count": 1,
   "metadata": {},
   "outputs": [],
   "source": [
    "#!pip install keras"
   ]
  },
  {
   "cell_type": "code",
   "execution_count": 2,
   "metadata": {},
   "outputs": [],
   "source": [
    "import pandas as pd\n",
    "import numpy as np\n"
   ]
  },
  {
   "cell_type": "code",
   "execution_count": 3,
   "metadata": {},
   "outputs": [
    {
     "data": {
      "text/html": [
       "<div>\n",
       "<style scoped>\n",
       "    .dataframe tbody tr th:only-of-type {\n",
       "        vertical-align: middle;\n",
       "    }\n",
       "\n",
       "    .dataframe tbody tr th {\n",
       "        vertical-align: top;\n",
       "    }\n",
       "\n",
       "    .dataframe thead th {\n",
       "        text-align: right;\n",
       "    }\n",
       "</style>\n",
       "<table border=\"1\" class=\"dataframe\">\n",
       "  <thead>\n",
       "    <tr style=\"text-align: right;\">\n",
       "      <th></th>\n",
       "      <th>Cement</th>\n",
       "      <th>Blast Furnace Slag</th>\n",
       "      <th>Fly Ash</th>\n",
       "      <th>Water</th>\n",
       "      <th>Superplasticizer</th>\n",
       "      <th>Coarse Aggregate</th>\n",
       "      <th>Fine Aggregate</th>\n",
       "      <th>Age</th>\n",
       "      <th>Strength</th>\n",
       "    </tr>\n",
       "  </thead>\n",
       "  <tbody>\n",
       "    <tr>\n",
       "      <th>0</th>\n",
       "      <td>540.0</td>\n",
       "      <td>0.0</td>\n",
       "      <td>0.0</td>\n",
       "      <td>162.0</td>\n",
       "      <td>2.5</td>\n",
       "      <td>1040.0</td>\n",
       "      <td>676.0</td>\n",
       "      <td>28</td>\n",
       "      <td>79.99</td>\n",
       "    </tr>\n",
       "    <tr>\n",
       "      <th>1</th>\n",
       "      <td>540.0</td>\n",
       "      <td>0.0</td>\n",
       "      <td>0.0</td>\n",
       "      <td>162.0</td>\n",
       "      <td>2.5</td>\n",
       "      <td>1055.0</td>\n",
       "      <td>676.0</td>\n",
       "      <td>28</td>\n",
       "      <td>61.89</td>\n",
       "    </tr>\n",
       "    <tr>\n",
       "      <th>2</th>\n",
       "      <td>332.5</td>\n",
       "      <td>142.5</td>\n",
       "      <td>0.0</td>\n",
       "      <td>228.0</td>\n",
       "      <td>0.0</td>\n",
       "      <td>932.0</td>\n",
       "      <td>594.0</td>\n",
       "      <td>270</td>\n",
       "      <td>40.27</td>\n",
       "    </tr>\n",
       "    <tr>\n",
       "      <th>3</th>\n",
       "      <td>332.5</td>\n",
       "      <td>142.5</td>\n",
       "      <td>0.0</td>\n",
       "      <td>228.0</td>\n",
       "      <td>0.0</td>\n",
       "      <td>932.0</td>\n",
       "      <td>594.0</td>\n",
       "      <td>365</td>\n",
       "      <td>41.05</td>\n",
       "    </tr>\n",
       "    <tr>\n",
       "      <th>4</th>\n",
       "      <td>198.6</td>\n",
       "      <td>132.4</td>\n",
       "      <td>0.0</td>\n",
       "      <td>192.0</td>\n",
       "      <td>0.0</td>\n",
       "      <td>978.4</td>\n",
       "      <td>825.5</td>\n",
       "      <td>360</td>\n",
       "      <td>44.30</td>\n",
       "    </tr>\n",
       "  </tbody>\n",
       "</table>\n",
       "</div>"
      ],
      "text/plain": [
       "   Cement  Blast Furnace Slag  Fly Ash  Water  Superplasticizer  \\\n",
       "0   540.0                 0.0      0.0  162.0               2.5   \n",
       "1   540.0                 0.0      0.0  162.0               2.5   \n",
       "2   332.5               142.5      0.0  228.0               0.0   \n",
       "3   332.5               142.5      0.0  228.0               0.0   \n",
       "4   198.6               132.4      0.0  192.0               0.0   \n",
       "\n",
       "   Coarse Aggregate  Fine Aggregate  Age  Strength  \n",
       "0            1040.0           676.0   28     79.99  \n",
       "1            1055.0           676.0   28     61.89  \n",
       "2             932.0           594.0  270     40.27  \n",
       "3             932.0           594.0  365     41.05  \n",
       "4             978.4           825.5  360     44.30  "
      ]
     },
     "execution_count": 3,
     "metadata": {},
     "output_type": "execute_result"
    }
   ],
   "source": [
    "#load data\n",
    "concrete_data = pd.read_csv('https://s3-api.us-geo.objectstorage.softlayer.net/cf-courses-data/CognitiveClass/DL0101EN/labs/data/concrete_data.csv')\n",
    "concrete_data.head()"
   ]
  },
  {
   "cell_type": "code",
   "execution_count": 4,
   "metadata": {},
   "outputs": [
    {
     "data": {
      "text/plain": [
       "(1030, 9)"
      ]
     },
     "execution_count": 4,
     "metadata": {},
     "output_type": "execute_result"
    }
   ],
   "source": [
    "concrete_data.shape"
   ]
  },
  {
   "cell_type": "code",
   "execution_count": 5,
   "metadata": {},
   "outputs": [
    {
     "data": {
      "text/html": [
       "<div>\n",
       "<style scoped>\n",
       "    .dataframe tbody tr th:only-of-type {\n",
       "        vertical-align: middle;\n",
       "    }\n",
       "\n",
       "    .dataframe tbody tr th {\n",
       "        vertical-align: top;\n",
       "    }\n",
       "\n",
       "    .dataframe thead th {\n",
       "        text-align: right;\n",
       "    }\n",
       "</style>\n",
       "<table border=\"1\" class=\"dataframe\">\n",
       "  <thead>\n",
       "    <tr style=\"text-align: right;\">\n",
       "      <th></th>\n",
       "      <th>Cement</th>\n",
       "      <th>Blast Furnace Slag</th>\n",
       "      <th>Fly Ash</th>\n",
       "      <th>Water</th>\n",
       "      <th>Superplasticizer</th>\n",
       "      <th>Coarse Aggregate</th>\n",
       "      <th>Fine Aggregate</th>\n",
       "      <th>Age</th>\n",
       "      <th>Strength</th>\n",
       "    </tr>\n",
       "  </thead>\n",
       "  <tbody>\n",
       "    <tr>\n",
       "      <th>count</th>\n",
       "      <td>1030.000000</td>\n",
       "      <td>1030.000000</td>\n",
       "      <td>1030.000000</td>\n",
       "      <td>1030.000000</td>\n",
       "      <td>1030.000000</td>\n",
       "      <td>1030.000000</td>\n",
       "      <td>1030.000000</td>\n",
       "      <td>1030.000000</td>\n",
       "      <td>1030.000000</td>\n",
       "    </tr>\n",
       "    <tr>\n",
       "      <th>mean</th>\n",
       "      <td>281.167864</td>\n",
       "      <td>73.895825</td>\n",
       "      <td>54.188350</td>\n",
       "      <td>181.567282</td>\n",
       "      <td>6.204660</td>\n",
       "      <td>972.918932</td>\n",
       "      <td>773.580485</td>\n",
       "      <td>45.662136</td>\n",
       "      <td>35.817961</td>\n",
       "    </tr>\n",
       "    <tr>\n",
       "      <th>std</th>\n",
       "      <td>104.506364</td>\n",
       "      <td>86.279342</td>\n",
       "      <td>63.997004</td>\n",
       "      <td>21.354219</td>\n",
       "      <td>5.973841</td>\n",
       "      <td>77.753954</td>\n",
       "      <td>80.175980</td>\n",
       "      <td>63.169912</td>\n",
       "      <td>16.705742</td>\n",
       "    </tr>\n",
       "    <tr>\n",
       "      <th>min</th>\n",
       "      <td>102.000000</td>\n",
       "      <td>0.000000</td>\n",
       "      <td>0.000000</td>\n",
       "      <td>121.800000</td>\n",
       "      <td>0.000000</td>\n",
       "      <td>801.000000</td>\n",
       "      <td>594.000000</td>\n",
       "      <td>1.000000</td>\n",
       "      <td>2.330000</td>\n",
       "    </tr>\n",
       "    <tr>\n",
       "      <th>25%</th>\n",
       "      <td>192.375000</td>\n",
       "      <td>0.000000</td>\n",
       "      <td>0.000000</td>\n",
       "      <td>164.900000</td>\n",
       "      <td>0.000000</td>\n",
       "      <td>932.000000</td>\n",
       "      <td>730.950000</td>\n",
       "      <td>7.000000</td>\n",
       "      <td>23.710000</td>\n",
       "    </tr>\n",
       "    <tr>\n",
       "      <th>50%</th>\n",
       "      <td>272.900000</td>\n",
       "      <td>22.000000</td>\n",
       "      <td>0.000000</td>\n",
       "      <td>185.000000</td>\n",
       "      <td>6.400000</td>\n",
       "      <td>968.000000</td>\n",
       "      <td>779.500000</td>\n",
       "      <td>28.000000</td>\n",
       "      <td>34.445000</td>\n",
       "    </tr>\n",
       "    <tr>\n",
       "      <th>75%</th>\n",
       "      <td>350.000000</td>\n",
       "      <td>142.950000</td>\n",
       "      <td>118.300000</td>\n",
       "      <td>192.000000</td>\n",
       "      <td>10.200000</td>\n",
       "      <td>1029.400000</td>\n",
       "      <td>824.000000</td>\n",
       "      <td>56.000000</td>\n",
       "      <td>46.135000</td>\n",
       "    </tr>\n",
       "    <tr>\n",
       "      <th>max</th>\n",
       "      <td>540.000000</td>\n",
       "      <td>359.400000</td>\n",
       "      <td>200.100000</td>\n",
       "      <td>247.000000</td>\n",
       "      <td>32.200000</td>\n",
       "      <td>1145.000000</td>\n",
       "      <td>992.600000</td>\n",
       "      <td>365.000000</td>\n",
       "      <td>82.600000</td>\n",
       "    </tr>\n",
       "  </tbody>\n",
       "</table>\n",
       "</div>"
      ],
      "text/plain": [
       "            Cement  Blast Furnace Slag      Fly Ash        Water  \\\n",
       "count  1030.000000         1030.000000  1030.000000  1030.000000   \n",
       "mean    281.167864           73.895825    54.188350   181.567282   \n",
       "std     104.506364           86.279342    63.997004    21.354219   \n",
       "min     102.000000            0.000000     0.000000   121.800000   \n",
       "25%     192.375000            0.000000     0.000000   164.900000   \n",
       "50%     272.900000           22.000000     0.000000   185.000000   \n",
       "75%     350.000000          142.950000   118.300000   192.000000   \n",
       "max     540.000000          359.400000   200.100000   247.000000   \n",
       "\n",
       "       Superplasticizer  Coarse Aggregate  Fine Aggregate          Age  \\\n",
       "count       1030.000000       1030.000000     1030.000000  1030.000000   \n",
       "mean           6.204660        972.918932      773.580485    45.662136   \n",
       "std            5.973841         77.753954       80.175980    63.169912   \n",
       "min            0.000000        801.000000      594.000000     1.000000   \n",
       "25%            0.000000        932.000000      730.950000     7.000000   \n",
       "50%            6.400000        968.000000      779.500000    28.000000   \n",
       "75%           10.200000       1029.400000      824.000000    56.000000   \n",
       "max           32.200000       1145.000000      992.600000   365.000000   \n",
       "\n",
       "          Strength  \n",
       "count  1030.000000  \n",
       "mean     35.817961  \n",
       "std      16.705742  \n",
       "min       2.330000  \n",
       "25%      23.710000  \n",
       "50%      34.445000  \n",
       "75%      46.135000  \n",
       "max      82.600000  "
      ]
     },
     "execution_count": 5,
     "metadata": {},
     "output_type": "execute_result"
    }
   ],
   "source": [
    "concrete_data.describe()"
   ]
  },
  {
   "cell_type": "code",
   "execution_count": 6,
   "metadata": {},
   "outputs": [
    {
     "data": {
      "text/plain": [
       "Cement                0\n",
       "Blast Furnace Slag    0\n",
       "Fly Ash               0\n",
       "Water                 0\n",
       "Superplasticizer      0\n",
       "Coarse Aggregate      0\n",
       "Fine Aggregate        0\n",
       "Age                   0\n",
       "Strength              0\n",
       "dtype: int64"
      ]
     },
     "execution_count": 6,
     "metadata": {},
     "output_type": "execute_result"
    }
   ],
   "source": [
    "concrete_data.isnull().sum()"
   ]
  },
  {
   "cell_type": "code",
   "execution_count": 7,
   "metadata": {},
   "outputs": [],
   "source": [
    "#split predictors and target\n",
    "concrete_data_columns = concrete_data.columns\n",
    "predictors = concrete_data[concrete_data_columns[concrete_data_columns != 'Strength']] # all columns except Strength\n",
    "target = concrete_data['Strength'] # Strength column"
   ]
  },
  {
   "cell_type": "code",
   "execution_count": 8,
   "metadata": {},
   "outputs": [
    {
     "data": {
      "text/html": [
       "<div>\n",
       "<style scoped>\n",
       "    .dataframe tbody tr th:only-of-type {\n",
       "        vertical-align: middle;\n",
       "    }\n",
       "\n",
       "    .dataframe tbody tr th {\n",
       "        vertical-align: top;\n",
       "    }\n",
       "\n",
       "    .dataframe thead th {\n",
       "        text-align: right;\n",
       "    }\n",
       "</style>\n",
       "<table border=\"1\" class=\"dataframe\">\n",
       "  <thead>\n",
       "    <tr style=\"text-align: right;\">\n",
       "      <th></th>\n",
       "      <th>Cement</th>\n",
       "      <th>Blast Furnace Slag</th>\n",
       "      <th>Fly Ash</th>\n",
       "      <th>Water</th>\n",
       "      <th>Superplasticizer</th>\n",
       "      <th>Coarse Aggregate</th>\n",
       "      <th>Fine Aggregate</th>\n",
       "      <th>Age</th>\n",
       "    </tr>\n",
       "  </thead>\n",
       "  <tbody>\n",
       "    <tr>\n",
       "      <th>0</th>\n",
       "      <td>540.0</td>\n",
       "      <td>0.0</td>\n",
       "      <td>0.0</td>\n",
       "      <td>162.0</td>\n",
       "      <td>2.5</td>\n",
       "      <td>1040.0</td>\n",
       "      <td>676.0</td>\n",
       "      <td>28</td>\n",
       "    </tr>\n",
       "    <tr>\n",
       "      <th>1</th>\n",
       "      <td>540.0</td>\n",
       "      <td>0.0</td>\n",
       "      <td>0.0</td>\n",
       "      <td>162.0</td>\n",
       "      <td>2.5</td>\n",
       "      <td>1055.0</td>\n",
       "      <td>676.0</td>\n",
       "      <td>28</td>\n",
       "    </tr>\n",
       "    <tr>\n",
       "      <th>2</th>\n",
       "      <td>332.5</td>\n",
       "      <td>142.5</td>\n",
       "      <td>0.0</td>\n",
       "      <td>228.0</td>\n",
       "      <td>0.0</td>\n",
       "      <td>932.0</td>\n",
       "      <td>594.0</td>\n",
       "      <td>270</td>\n",
       "    </tr>\n",
       "    <tr>\n",
       "      <th>3</th>\n",
       "      <td>332.5</td>\n",
       "      <td>142.5</td>\n",
       "      <td>0.0</td>\n",
       "      <td>228.0</td>\n",
       "      <td>0.0</td>\n",
       "      <td>932.0</td>\n",
       "      <td>594.0</td>\n",
       "      <td>365</td>\n",
       "    </tr>\n",
       "    <tr>\n",
       "      <th>4</th>\n",
       "      <td>198.6</td>\n",
       "      <td>132.4</td>\n",
       "      <td>0.0</td>\n",
       "      <td>192.0</td>\n",
       "      <td>0.0</td>\n",
       "      <td>978.4</td>\n",
       "      <td>825.5</td>\n",
       "      <td>360</td>\n",
       "    </tr>\n",
       "  </tbody>\n",
       "</table>\n",
       "</div>"
      ],
      "text/plain": [
       "   Cement  Blast Furnace Slag  Fly Ash  Water  Superplasticizer  \\\n",
       "0   540.0                 0.0      0.0  162.0               2.5   \n",
       "1   540.0                 0.0      0.0  162.0               2.5   \n",
       "2   332.5               142.5      0.0  228.0               0.0   \n",
       "3   332.5               142.5      0.0  228.0               0.0   \n",
       "4   198.6               132.4      0.0  192.0               0.0   \n",
       "\n",
       "   Coarse Aggregate  Fine Aggregate  Age  \n",
       "0            1040.0           676.0   28  \n",
       "1            1055.0           676.0   28  \n",
       "2             932.0           594.0  270  \n",
       "3             932.0           594.0  365  \n",
       "4             978.4           825.5  360  "
      ]
     },
     "execution_count": 8,
     "metadata": {},
     "output_type": "execute_result"
    }
   ],
   "source": [
    "predictors.head()"
   ]
  },
  {
   "cell_type": "code",
   "execution_count": 9,
   "metadata": {},
   "outputs": [
    {
     "data": {
      "text/plain": [
       "0    79.99\n",
       "1    61.89\n",
       "2    40.27\n",
       "3    41.05\n",
       "4    44.30\n",
       "Name: Strength, dtype: float64"
      ]
     },
     "execution_count": 9,
     "metadata": {},
     "output_type": "execute_result"
    }
   ],
   "source": [
    "target.head()"
   ]
  },
  {
   "cell_type": "code",
   "execution_count": 10,
   "metadata": {},
   "outputs": [],
   "source": [
    "n_cols = predictors.shape[1] # number of predictors"
   ]
  },
  {
   "cell_type": "code",
   "execution_count": 11,
   "metadata": {},
   "outputs": [],
   "source": [
    "import keras"
   ]
  },
  {
   "cell_type": "code",
   "execution_count": 12,
   "metadata": {},
   "outputs": [],
   "source": [
    "from keras.models import Sequential\n",
    "from keras.layers import Dense"
   ]
  },
  {
   "cell_type": "code",
   "execution_count": 13,
   "metadata": {},
   "outputs": [],
   "source": [
    "# define regression model\n",
    "def regression_model():\n",
    "    # create model\n",
    "    model = Sequential()\n",
    "    model.add(Dense(10, activation='relu', input_shape=(n_cols,)))\n",
    "    \n",
    "    model.add(Dense(1))\n",
    "    \n",
    "    # compile model\n",
    "    model.compile(optimizer='adam', loss='mean_squared_error', metrics=['mean_squared_error'])\n",
    "    return model"
   ]
  },
  {
   "cell_type": "code",
   "execution_count": 14,
   "metadata": {},
   "outputs": [],
   "source": [
    "#split data train and test\n",
    "from sklearn.model_selection import train_test_split\n",
    "X_train, X_test, y_train, y_test = train_test_split(predictors, target, test_size=0.3)"
   ]
  },
  {
   "cell_type": "code",
   "execution_count": 15,
   "metadata": {},
   "outputs": [],
   "source": [
    "# build the model\n",
    "model = regression_model()"
   ]
  },
  {
   "cell_type": "code",
   "execution_count": 16,
   "metadata": {},
   "outputs": [
    {
     "name": "stdout",
     "output_type": "stream",
     "text": [
      "Epoch 1/50\n",
      "23/23 - 0s - loss: 2192.5022 - mean_squared_error: 2192.5022\n",
      "Epoch 2/50\n",
      "23/23 - 0s - loss: 1607.7030 - mean_squared_error: 1607.7030\n",
      "Epoch 3/50\n",
      "23/23 - 0s - loss: 1264.3925 - mean_squared_error: 1264.3925\n",
      "Epoch 4/50\n",
      "23/23 - 0s - loss: 1048.5645 - mean_squared_error: 1048.5645\n",
      "Epoch 5/50\n",
      "23/23 - 0s - loss: 872.2646 - mean_squared_error: 872.2646\n",
      "Epoch 6/50\n",
      "23/23 - 0s - loss: 739.0618 - mean_squared_error: 739.0618\n",
      "Epoch 7/50\n",
      "23/23 - 0s - loss: 630.4440 - mean_squared_error: 630.4440\n",
      "Epoch 8/50\n",
      "23/23 - 0s - loss: 534.2203 - mean_squared_error: 534.2203\n",
      "Epoch 9/50\n",
      "23/23 - 0s - loss: 461.5688 - mean_squared_error: 461.5688\n",
      "Epoch 10/50\n",
      "23/23 - 0s - loss: 413.8092 - mean_squared_error: 413.8092\n",
      "Epoch 11/50\n",
      "23/23 - 0s - loss: 367.7360 - mean_squared_error: 367.7360\n",
      "Epoch 12/50\n",
      "23/23 - 0s - loss: 332.2121 - mean_squared_error: 332.2121\n",
      "Epoch 13/50\n",
      "23/23 - 0s - loss: 303.6226 - mean_squared_error: 303.6226\n",
      "Epoch 14/50\n",
      "23/23 - 0s - loss: 283.7982 - mean_squared_error: 283.7982\n",
      "Epoch 15/50\n",
      "23/23 - 0s - loss: 263.2203 - mean_squared_error: 263.2203\n",
      "Epoch 16/50\n",
      "23/23 - 0s - loss: 246.1076 - mean_squared_error: 246.1076\n",
      "Epoch 17/50\n",
      "23/23 - 0s - loss: 230.2400 - mean_squared_error: 230.2400\n",
      "Epoch 18/50\n",
      "23/23 - 0s - loss: 220.1832 - mean_squared_error: 220.1832\n",
      "Epoch 19/50\n",
      "23/23 - 0s - loss: 209.7478 - mean_squared_error: 209.7478\n",
      "Epoch 20/50\n",
      "23/23 - 0s - loss: 197.0036 - mean_squared_error: 197.0036\n",
      "Epoch 21/50\n",
      "23/23 - 0s - loss: 185.2170 - mean_squared_error: 185.2170\n",
      "Epoch 22/50\n",
      "23/23 - 0s - loss: 178.4347 - mean_squared_error: 178.4347\n",
      "Epoch 23/50\n",
      "23/23 - 0s - loss: 172.6489 - mean_squared_error: 172.6489\n",
      "Epoch 24/50\n",
      "23/23 - 0s - loss: 165.2677 - mean_squared_error: 165.2677\n",
      "Epoch 25/50\n",
      "23/23 - 0s - loss: 159.9852 - mean_squared_error: 159.9852\n",
      "Epoch 26/50\n",
      "23/23 - 0s - loss: 155.6841 - mean_squared_error: 155.6841\n",
      "Epoch 27/50\n",
      "23/23 - 0s - loss: 155.0829 - mean_squared_error: 155.0829\n",
      "Epoch 28/50\n",
      "23/23 - 0s - loss: 148.8842 - mean_squared_error: 148.8842\n",
      "Epoch 29/50\n",
      "23/23 - 0s - loss: 141.8325 - mean_squared_error: 141.8325\n",
      "Epoch 30/50\n",
      "23/23 - 0s - loss: 140.5107 - mean_squared_error: 140.5107\n",
      "Epoch 31/50\n",
      "23/23 - 0s - loss: 137.9852 - mean_squared_error: 137.9852\n",
      "Epoch 32/50\n",
      "23/23 - 0s - loss: 132.5729 - mean_squared_error: 132.5729\n",
      "Epoch 33/50\n",
      "23/23 - 0s - loss: 134.3454 - mean_squared_error: 134.3454\n",
      "Epoch 34/50\n",
      "23/23 - 0s - loss: 126.4489 - mean_squared_error: 126.4489\n",
      "Epoch 35/50\n",
      "23/23 - 0s - loss: 127.5201 - mean_squared_error: 127.5201\n",
      "Epoch 36/50\n",
      "23/23 - 0s - loss: 129.8161 - mean_squared_error: 129.8161\n",
      "Epoch 37/50\n",
      "23/23 - 0s - loss: 122.6209 - mean_squared_error: 122.6209\n",
      "Epoch 38/50\n",
      "23/23 - 0s - loss: 121.2448 - mean_squared_error: 121.2448\n",
      "Epoch 39/50\n",
      "23/23 - 0s - loss: 119.8978 - mean_squared_error: 119.8978\n",
      "Epoch 40/50\n",
      "23/23 - 0s - loss: 121.0810 - mean_squared_error: 121.0810\n",
      "Epoch 41/50\n",
      "23/23 - 0s - loss: 116.7236 - mean_squared_error: 116.7236\n",
      "Epoch 42/50\n",
      "23/23 - 0s - loss: 113.6014 - mean_squared_error: 113.6014\n",
      "Epoch 43/50\n",
      "23/23 - 0s - loss: 114.4884 - mean_squared_error: 114.4884\n",
      "Epoch 44/50\n",
      "23/23 - 0s - loss: 115.1054 - mean_squared_error: 115.1054\n",
      "Epoch 45/50\n",
      "23/23 - 0s - loss: 115.4170 - mean_squared_error: 115.4170\n",
      "Epoch 46/50\n",
      "23/23 - 0s - loss: 112.6923 - mean_squared_error: 112.6923\n",
      "Epoch 47/50\n",
      "23/23 - 0s - loss: 109.3013 - mean_squared_error: 109.3013\n",
      "Epoch 48/50\n",
      "23/23 - 0s - loss: 111.7325 - mean_squared_error: 111.7325\n",
      "Epoch 49/50\n",
      "23/23 - 0s - loss: 108.0285 - mean_squared_error: 108.0285\n",
      "Epoch 50/50\n",
      "23/23 - 0s - loss: 106.6451 - mean_squared_error: 106.6451\n"
     ]
    },
    {
     "data": {
      "text/plain": [
       "<tensorflow.python.keras.callbacks.History at 0x1d4e0e5c100>"
      ]
     },
     "execution_count": 16,
     "metadata": {},
     "output_type": "execute_result"
    }
   ],
   "source": [
    "# fit the model using data train\n",
    "model.fit(X_train, y_train, epochs=50, verbose=2)\n",
    "\n"
   ]
  },
  {
   "cell_type": "code",
   "execution_count": 17,
   "metadata": {
    "scrolled": true
   },
   "outputs": [
    {
     "name": "stdout",
     "output_type": "stream",
     "text": [
      "MSE: 103.31014251708984\n"
     ]
    }
   ],
   "source": [
    "# evaluate the model using data test\n",
    "scores = model.evaluate(X_test, y_test, verbose=0)\n",
    "print(\"MSE: {}\".format(scores[0]))"
   ]
  },
  {
   "cell_type": "code",
   "execution_count": 18,
   "metadata": {},
   "outputs": [
    {
     "name": "stdout",
     "output_type": "stream",
     "text": [
      "MSE: 103.3101489385385\n"
     ]
    }
   ],
   "source": [
    "# evaluate the model using data test with sklearn \n",
    "from sklearn.metrics import mean_squared_error\n",
    "y_pred= model.predict(X_test)\n",
    "\n",
    "print(\"MSE: {}\".format(mean_squared_error(y_test, y_pred)))"
   ]
  },
  {
   "cell_type": "code",
   "execution_count": 25,
   "metadata": {},
   "outputs": [
    {
     "name": "stdout",
     "output_type": "stream",
     "text": [
      "10/10 [==============================] - 0s 2ms/step - loss: 95.2031 - mean_squared_error: 95.2031\n",
      "10/10 [==============================] - 0s 667us/step - loss: 198.9128 - mean_squared_error: 198.9128\n",
      "10/10 [==============================] - 0s 666us/step - loss: 165.7128 - mean_squared_error: 165.7128\n",
      "10/10 [==============================] - 0s 1ms/step - loss: 541.7976 - mean_squared_error: 541.7976\n",
      "10/10 [==============================] - 0s 756us/step - loss: 134.3326 - mean_squared_error: 134.3326\n",
      "10/10 [==============================] - 0s 665us/step - loss: 230.4738 - mean_squared_error: 230.4738\n",
      "10/10 [==============================] - 0s 2ms/step - loss: 165.6993 - mean_squared_error: 165.6993\n",
      "10/10 [==============================] - 0s 2ms/step - loss: 324.1237 - mean_squared_error: 324.1237\n",
      "10/10 [==============================] - 0s 2ms/step - loss: 148.6683 - mean_squared_error: 148.6683\n",
      "10/10 [==============================] - 0s 2ms/step - loss: 109.1644 - mean_squared_error: 109.1644\n",
      "10/10 [==============================] - 0s 902us/step - loss: 547.4371 - mean_squared_error: 547.4371\n",
      "10/10 [==============================] - 0s 677us/step - loss: 429.8381 - mean_squared_error: 429.8381\n",
      "10/10 [==============================] - 0s 850us/step - loss: 293.4183 - mean_squared_error: 293.4183\n",
      "10/10 [==============================] - 0s 1ms/step - loss: 111.9879 - mean_squared_error: 111.9879\n",
      "10/10 [==============================] - 0s 2ms/step - loss: 145.9791 - mean_squared_error: 145.9791\n",
      "10/10 [==============================] - 0s 2ms/step - loss: 181.6414 - mean_squared_error: 181.6414\n",
      "10/10 [==============================] - 0s 2ms/step - loss: 143.3777 - mean_squared_error: 143.3777\n",
      "10/10 [==============================] - 0s 2ms/step - loss: 425.7332 - mean_squared_error: 425.7332\n",
      "10/10 [==============================] - 0s 667us/step - loss: 393.8005 - mean_squared_error: 393.8005\n",
      "10/10 [==============================] - 0s 1ms/step - loss: 294.1755 - mean_squared_error: 294.1755\n",
      "10/10 [==============================] - 0s 837us/step - loss: 126.3897 - mean_squared_error: 126.3897\n",
      "10/10 [==============================] - 0s 890us/step - loss: 244.2784 - mean_squared_error: 244.2784\n",
      "10/10 [==============================] - 0s 556us/step - loss: 99.6588 - mean_squared_error: 99.6588\n",
      "10/10 [==============================] - 0s 700us/step - loss: 106.4510 - mean_squared_error: 106.4510\n",
      "10/10 [==============================] - 0s 667us/step - loss: 133.6308 - mean_squared_error: 133.6308\n",
      "10/10 [==============================] - 0s 2ms/step - loss: 1914.9015 - mean_squared_error: 1914.9015\n",
      "10/10 [==============================] - 0s 1ms/step - loss: 148.4033 - mean_squared_error: 148.4033\n",
      "10/10 [==============================] - 0s 1ms/step - loss: 192.7165 - mean_squared_error: 192.7165\n",
      "10/10 [==============================] - 0s 556us/step - loss: 166.8206 - mean_squared_error: 166.8206\n",
      "10/10 [==============================] - 0s 2ms/step - loss: 200.8232 - mean_squared_error: 200.8232\n",
      "10/10 [==============================] - 0s 778us/step - loss: 319.4225 - mean_squared_error: 319.4225\n",
      "10/10 [==============================] - 0s 2ms/step - loss: 162.5693 - mean_squared_error: 162.5693\n",
      "10/10 [==============================] - 0s 2ms/step - loss: 171.7394 - mean_squared_error: 171.7394\n",
      "10/10 [==============================] - 0s 1ms/step - loss: 366.4788 - mean_squared_error: 366.4788\n",
      "10/10 [==============================] - 0s 778us/step - loss: 105.9576 - mean_squared_error: 105.9576\n",
      "10/10 [==============================] - 0s 2ms/step - loss: 1047.6519 - mean_squared_error: 1047.6519\n",
      "10/10 [==============================] - 0s 777us/step - loss: 162.0668 - mean_squared_error: 162.0668\n",
      "10/10 [==============================] - 0s 1ms/step - loss: 103.7482 - mean_squared_error: 103.7482\n",
      "10/10 [==============================] - 0s 666us/step - loss: 183.0376 - mean_squared_error: 183.0376\n",
      "10/10 [==============================] - 0s 667us/step - loss: 2640.1777 - mean_squared_error: 2640.1777\n",
      "10/10 [==============================] - 0s 667us/step - loss: 417.9455 - mean_squared_error: 417.9455\n",
      "10/10 [==============================] - 0s 666us/step - loss: 746.8282 - mean_squared_error: 746.8282\n",
      "10/10 [==============================] - 0s 667us/step - loss: 1710.6823 - mean_squared_error: 1710.6823\n",
      "10/10 [==============================] - 0s 668us/step - loss: 260.5004 - mean_squared_error: 260.5004\n",
      "10/10 [==============================] - 0s 846us/step - loss: 149.7217 - mean_squared_error: 149.7217\n",
      "10/10 [==============================] - 0s 926us/step - loss: 247.3624 - mean_squared_error: 247.3624\n",
      "10/10 [==============================] - 0s 2ms/step - loss: 169.4942 - mean_squared_error: 169.4942\n",
      "10/10 [==============================] - 0s 567us/step - loss: 113.8165 - mean_squared_error: 113.8165\n",
      "10/10 [==============================] - 0s 1ms/step - loss: 103.8507 - mean_squared_error: 103.8507\n"
     ]
    }
   ],
   "source": [
    "#Repeat steps 1 - 3, 50 times, i.e., create a list of 50 mean squared errors.\n",
    "MSE_scores=[]\n",
    "\n",
    "for i in range(1,50):\n",
    "        X_train, X_test, y_train, y_test = train_test_split(predictors, target, test_size=0.3) #split data\n",
    "        model = regression_model()\n",
    "        model.fit(X_train, y_train, epochs=50, verbose=0) #train model on training data using 50 epoc\n",
    "        scores = model.evaluate(X_test, y_test, verbose=1)\n",
    "        MSE_scores.append(scores[0])\n",
    "\n",
    "\n",
    "\n"
   ]
  },
  {
   "cell_type": "code",
   "execution_count": 24,
   "metadata": {},
   "outputs": [
    {
     "name": "stdout",
     "output_type": "stream",
     "text": [
      "mean_MSE: 285.3310001918248 \n",
      " STD_MSE: 371.8348049663834\n"
     ]
    }
   ],
   "source": [
    "mean_MSE=np.mean(MSE_scores)\n",
    "STD_MSE=np.std(MSE_scores)\n",
    "\n",
    "#Report the mean and the standard deviation of the mean squared errors.\n",
    "print('mean_MSE: {} \\n STD_MSE: {}'.format(mean_MSE, STD_MSE))\n",
    "        "
   ]
  }
 ],
 "metadata": {
  "kernelspec": {
   "display_name": "Python 3",
   "language": "python",
   "name": "python3"
  },
  "language_info": {
   "codemirror_mode": {
    "name": "ipython",
    "version": 3
   },
   "file_extension": ".py",
   "mimetype": "text/x-python",
   "name": "python",
   "nbconvert_exporter": "python",
   "pygments_lexer": "ipython3",
   "version": "3.8.5"
  }
 },
 "nbformat": 4,
 "nbformat_minor": 4
}
