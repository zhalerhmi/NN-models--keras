{
 "cells": [
  {
   "cell_type": "code",
   "execution_count": 1,
   "metadata": {},
   "outputs": [],
   "source": [
    "#!pip install keras"
   ]
  },
  {
   "cell_type": "code",
   "execution_count": 2,
   "metadata": {},
   "outputs": [],
   "source": [
    "import pandas as pd\n",
    "import numpy as np\n"
   ]
  },
  {
   "cell_type": "code",
   "execution_count": 3,
   "metadata": {},
   "outputs": [
    {
     "data": {
      "text/html": [
       "<div>\n",
       "<style scoped>\n",
       "    .dataframe tbody tr th:only-of-type {\n",
       "        vertical-align: middle;\n",
       "    }\n",
       "\n",
       "    .dataframe tbody tr th {\n",
       "        vertical-align: top;\n",
       "    }\n",
       "\n",
       "    .dataframe thead th {\n",
       "        text-align: right;\n",
       "    }\n",
       "</style>\n",
       "<table border=\"1\" class=\"dataframe\">\n",
       "  <thead>\n",
       "    <tr style=\"text-align: right;\">\n",
       "      <th></th>\n",
       "      <th>Cement</th>\n",
       "      <th>Blast Furnace Slag</th>\n",
       "      <th>Fly Ash</th>\n",
       "      <th>Water</th>\n",
       "      <th>Superplasticizer</th>\n",
       "      <th>Coarse Aggregate</th>\n",
       "      <th>Fine Aggregate</th>\n",
       "      <th>Age</th>\n",
       "      <th>Strength</th>\n",
       "    </tr>\n",
       "  </thead>\n",
       "  <tbody>\n",
       "    <tr>\n",
       "      <th>0</th>\n",
       "      <td>540.0</td>\n",
       "      <td>0.0</td>\n",
       "      <td>0.0</td>\n",
       "      <td>162.0</td>\n",
       "      <td>2.5</td>\n",
       "      <td>1040.0</td>\n",
       "      <td>676.0</td>\n",
       "      <td>28</td>\n",
       "      <td>79.99</td>\n",
       "    </tr>\n",
       "    <tr>\n",
       "      <th>1</th>\n",
       "      <td>540.0</td>\n",
       "      <td>0.0</td>\n",
       "      <td>0.0</td>\n",
       "      <td>162.0</td>\n",
       "      <td>2.5</td>\n",
       "      <td>1055.0</td>\n",
       "      <td>676.0</td>\n",
       "      <td>28</td>\n",
       "      <td>61.89</td>\n",
       "    </tr>\n",
       "    <tr>\n",
       "      <th>2</th>\n",
       "      <td>332.5</td>\n",
       "      <td>142.5</td>\n",
       "      <td>0.0</td>\n",
       "      <td>228.0</td>\n",
       "      <td>0.0</td>\n",
       "      <td>932.0</td>\n",
       "      <td>594.0</td>\n",
       "      <td>270</td>\n",
       "      <td>40.27</td>\n",
       "    </tr>\n",
       "    <tr>\n",
       "      <th>3</th>\n",
       "      <td>332.5</td>\n",
       "      <td>142.5</td>\n",
       "      <td>0.0</td>\n",
       "      <td>228.0</td>\n",
       "      <td>0.0</td>\n",
       "      <td>932.0</td>\n",
       "      <td>594.0</td>\n",
       "      <td>365</td>\n",
       "      <td>41.05</td>\n",
       "    </tr>\n",
       "    <tr>\n",
       "      <th>4</th>\n",
       "      <td>198.6</td>\n",
       "      <td>132.4</td>\n",
       "      <td>0.0</td>\n",
       "      <td>192.0</td>\n",
       "      <td>0.0</td>\n",
       "      <td>978.4</td>\n",
       "      <td>825.5</td>\n",
       "      <td>360</td>\n",
       "      <td>44.30</td>\n",
       "    </tr>\n",
       "  </tbody>\n",
       "</table>\n",
       "</div>"
      ],
      "text/plain": [
       "   Cement  Blast Furnace Slag  Fly Ash  Water  Superplasticizer  \\\n",
       "0   540.0                 0.0      0.0  162.0               2.5   \n",
       "1   540.0                 0.0      0.0  162.0               2.5   \n",
       "2   332.5               142.5      0.0  228.0               0.0   \n",
       "3   332.5               142.5      0.0  228.0               0.0   \n",
       "4   198.6               132.4      0.0  192.0               0.0   \n",
       "\n",
       "   Coarse Aggregate  Fine Aggregate  Age  Strength  \n",
       "0            1040.0           676.0   28     79.99  \n",
       "1            1055.0           676.0   28     61.89  \n",
       "2             932.0           594.0  270     40.27  \n",
       "3             932.0           594.0  365     41.05  \n",
       "4             978.4           825.5  360     44.30  "
      ]
     },
     "execution_count": 3,
     "metadata": {},
     "output_type": "execute_result"
    }
   ],
   "source": [
    "#load data\n",
    "concrete_data = pd.read_csv('https://s3-api.us-geo.objectstorage.softlayer.net/cf-courses-data/CognitiveClass/DL0101EN/labs/data/concrete_data.csv')\n",
    "concrete_data.head()"
   ]
  },
  {
   "cell_type": "code",
   "execution_count": 4,
   "metadata": {},
   "outputs": [
    {
     "data": {
      "text/plain": [
       "(1030, 9)"
      ]
     },
     "execution_count": 4,
     "metadata": {},
     "output_type": "execute_result"
    }
   ],
   "source": [
    "concrete_data.shape"
   ]
  },
  {
   "cell_type": "code",
   "execution_count": 5,
   "metadata": {},
   "outputs": [
    {
     "data": {
      "text/html": [
       "<div>\n",
       "<style scoped>\n",
       "    .dataframe tbody tr th:only-of-type {\n",
       "        vertical-align: middle;\n",
       "    }\n",
       "\n",
       "    .dataframe tbody tr th {\n",
       "        vertical-align: top;\n",
       "    }\n",
       "\n",
       "    .dataframe thead th {\n",
       "        text-align: right;\n",
       "    }\n",
       "</style>\n",
       "<table border=\"1\" class=\"dataframe\">\n",
       "  <thead>\n",
       "    <tr style=\"text-align: right;\">\n",
       "      <th></th>\n",
       "      <th>Cement</th>\n",
       "      <th>Blast Furnace Slag</th>\n",
       "      <th>Fly Ash</th>\n",
       "      <th>Water</th>\n",
       "      <th>Superplasticizer</th>\n",
       "      <th>Coarse Aggregate</th>\n",
       "      <th>Fine Aggregate</th>\n",
       "      <th>Age</th>\n",
       "      <th>Strength</th>\n",
       "    </tr>\n",
       "  </thead>\n",
       "  <tbody>\n",
       "    <tr>\n",
       "      <th>count</th>\n",
       "      <td>1030.000000</td>\n",
       "      <td>1030.000000</td>\n",
       "      <td>1030.000000</td>\n",
       "      <td>1030.000000</td>\n",
       "      <td>1030.000000</td>\n",
       "      <td>1030.000000</td>\n",
       "      <td>1030.000000</td>\n",
       "      <td>1030.000000</td>\n",
       "      <td>1030.000000</td>\n",
       "    </tr>\n",
       "    <tr>\n",
       "      <th>mean</th>\n",
       "      <td>281.167864</td>\n",
       "      <td>73.895825</td>\n",
       "      <td>54.188350</td>\n",
       "      <td>181.567282</td>\n",
       "      <td>6.204660</td>\n",
       "      <td>972.918932</td>\n",
       "      <td>773.580485</td>\n",
       "      <td>45.662136</td>\n",
       "      <td>35.817961</td>\n",
       "    </tr>\n",
       "    <tr>\n",
       "      <th>std</th>\n",
       "      <td>104.506364</td>\n",
       "      <td>86.279342</td>\n",
       "      <td>63.997004</td>\n",
       "      <td>21.354219</td>\n",
       "      <td>5.973841</td>\n",
       "      <td>77.753954</td>\n",
       "      <td>80.175980</td>\n",
       "      <td>63.169912</td>\n",
       "      <td>16.705742</td>\n",
       "    </tr>\n",
       "    <tr>\n",
       "      <th>min</th>\n",
       "      <td>102.000000</td>\n",
       "      <td>0.000000</td>\n",
       "      <td>0.000000</td>\n",
       "      <td>121.800000</td>\n",
       "      <td>0.000000</td>\n",
       "      <td>801.000000</td>\n",
       "      <td>594.000000</td>\n",
       "      <td>1.000000</td>\n",
       "      <td>2.330000</td>\n",
       "    </tr>\n",
       "    <tr>\n",
       "      <th>25%</th>\n",
       "      <td>192.375000</td>\n",
       "      <td>0.000000</td>\n",
       "      <td>0.000000</td>\n",
       "      <td>164.900000</td>\n",
       "      <td>0.000000</td>\n",
       "      <td>932.000000</td>\n",
       "      <td>730.950000</td>\n",
       "      <td>7.000000</td>\n",
       "      <td>23.710000</td>\n",
       "    </tr>\n",
       "    <tr>\n",
       "      <th>50%</th>\n",
       "      <td>272.900000</td>\n",
       "      <td>22.000000</td>\n",
       "      <td>0.000000</td>\n",
       "      <td>185.000000</td>\n",
       "      <td>6.400000</td>\n",
       "      <td>968.000000</td>\n",
       "      <td>779.500000</td>\n",
       "      <td>28.000000</td>\n",
       "      <td>34.445000</td>\n",
       "    </tr>\n",
       "    <tr>\n",
       "      <th>75%</th>\n",
       "      <td>350.000000</td>\n",
       "      <td>142.950000</td>\n",
       "      <td>118.300000</td>\n",
       "      <td>192.000000</td>\n",
       "      <td>10.200000</td>\n",
       "      <td>1029.400000</td>\n",
       "      <td>824.000000</td>\n",
       "      <td>56.000000</td>\n",
       "      <td>46.135000</td>\n",
       "    </tr>\n",
       "    <tr>\n",
       "      <th>max</th>\n",
       "      <td>540.000000</td>\n",
       "      <td>359.400000</td>\n",
       "      <td>200.100000</td>\n",
       "      <td>247.000000</td>\n",
       "      <td>32.200000</td>\n",
       "      <td>1145.000000</td>\n",
       "      <td>992.600000</td>\n",
       "      <td>365.000000</td>\n",
       "      <td>82.600000</td>\n",
       "    </tr>\n",
       "  </tbody>\n",
       "</table>\n",
       "</div>"
      ],
      "text/plain": [
       "            Cement  Blast Furnace Slag      Fly Ash        Water  \\\n",
       "count  1030.000000         1030.000000  1030.000000  1030.000000   \n",
       "mean    281.167864           73.895825    54.188350   181.567282   \n",
       "std     104.506364           86.279342    63.997004    21.354219   \n",
       "min     102.000000            0.000000     0.000000   121.800000   \n",
       "25%     192.375000            0.000000     0.000000   164.900000   \n",
       "50%     272.900000           22.000000     0.000000   185.000000   \n",
       "75%     350.000000          142.950000   118.300000   192.000000   \n",
       "max     540.000000          359.400000   200.100000   247.000000   \n",
       "\n",
       "       Superplasticizer  Coarse Aggregate  Fine Aggregate          Age  \\\n",
       "count       1030.000000       1030.000000     1030.000000  1030.000000   \n",
       "mean           6.204660        972.918932      773.580485    45.662136   \n",
       "std            5.973841         77.753954       80.175980    63.169912   \n",
       "min            0.000000        801.000000      594.000000     1.000000   \n",
       "25%            0.000000        932.000000      730.950000     7.000000   \n",
       "50%            6.400000        968.000000      779.500000    28.000000   \n",
       "75%           10.200000       1029.400000      824.000000    56.000000   \n",
       "max           32.200000       1145.000000      992.600000   365.000000   \n",
       "\n",
       "          Strength  \n",
       "count  1030.000000  \n",
       "mean     35.817961  \n",
       "std      16.705742  \n",
       "min       2.330000  \n",
       "25%      23.710000  \n",
       "50%      34.445000  \n",
       "75%      46.135000  \n",
       "max      82.600000  "
      ]
     },
     "execution_count": 5,
     "metadata": {},
     "output_type": "execute_result"
    }
   ],
   "source": [
    "concrete_data.describe()"
   ]
  },
  {
   "cell_type": "code",
   "execution_count": 6,
   "metadata": {},
   "outputs": [
    {
     "data": {
      "text/plain": [
       "Cement                0\n",
       "Blast Furnace Slag    0\n",
       "Fly Ash               0\n",
       "Water                 0\n",
       "Superplasticizer      0\n",
       "Coarse Aggregate      0\n",
       "Fine Aggregate        0\n",
       "Age                   0\n",
       "Strength              0\n",
       "dtype: int64"
      ]
     },
     "execution_count": 6,
     "metadata": {},
     "output_type": "execute_result"
    }
   ],
   "source": [
    "concrete_data.isnull().sum()"
   ]
  },
  {
   "cell_type": "code",
   "execution_count": 7,
   "metadata": {},
   "outputs": [],
   "source": [
    "#split predictors and target\n",
    "concrete_data_columns = concrete_data.columns\n",
    "predictors = concrete_data[concrete_data_columns[concrete_data_columns != 'Strength']] # all columns except Strength\n",
    "target = concrete_data['Strength'] # Strength column"
   ]
  },
  {
   "cell_type": "code",
   "execution_count": 8,
   "metadata": {},
   "outputs": [
    {
     "data": {
      "text/html": [
       "<div>\n",
       "<style scoped>\n",
       "    .dataframe tbody tr th:only-of-type {\n",
       "        vertical-align: middle;\n",
       "    }\n",
       "\n",
       "    .dataframe tbody tr th {\n",
       "        vertical-align: top;\n",
       "    }\n",
       "\n",
       "    .dataframe thead th {\n",
       "        text-align: right;\n",
       "    }\n",
       "</style>\n",
       "<table border=\"1\" class=\"dataframe\">\n",
       "  <thead>\n",
       "    <tr style=\"text-align: right;\">\n",
       "      <th></th>\n",
       "      <th>Cement</th>\n",
       "      <th>Blast Furnace Slag</th>\n",
       "      <th>Fly Ash</th>\n",
       "      <th>Water</th>\n",
       "      <th>Superplasticizer</th>\n",
       "      <th>Coarse Aggregate</th>\n",
       "      <th>Fine Aggregate</th>\n",
       "      <th>Age</th>\n",
       "    </tr>\n",
       "  </thead>\n",
       "  <tbody>\n",
       "    <tr>\n",
       "      <th>0</th>\n",
       "      <td>540.0</td>\n",
       "      <td>0.0</td>\n",
       "      <td>0.0</td>\n",
       "      <td>162.0</td>\n",
       "      <td>2.5</td>\n",
       "      <td>1040.0</td>\n",
       "      <td>676.0</td>\n",
       "      <td>28</td>\n",
       "    </tr>\n",
       "    <tr>\n",
       "      <th>1</th>\n",
       "      <td>540.0</td>\n",
       "      <td>0.0</td>\n",
       "      <td>0.0</td>\n",
       "      <td>162.0</td>\n",
       "      <td>2.5</td>\n",
       "      <td>1055.0</td>\n",
       "      <td>676.0</td>\n",
       "      <td>28</td>\n",
       "    </tr>\n",
       "    <tr>\n",
       "      <th>2</th>\n",
       "      <td>332.5</td>\n",
       "      <td>142.5</td>\n",
       "      <td>0.0</td>\n",
       "      <td>228.0</td>\n",
       "      <td>0.0</td>\n",
       "      <td>932.0</td>\n",
       "      <td>594.0</td>\n",
       "      <td>270</td>\n",
       "    </tr>\n",
       "    <tr>\n",
       "      <th>3</th>\n",
       "      <td>332.5</td>\n",
       "      <td>142.5</td>\n",
       "      <td>0.0</td>\n",
       "      <td>228.0</td>\n",
       "      <td>0.0</td>\n",
       "      <td>932.0</td>\n",
       "      <td>594.0</td>\n",
       "      <td>365</td>\n",
       "    </tr>\n",
       "    <tr>\n",
       "      <th>4</th>\n",
       "      <td>198.6</td>\n",
       "      <td>132.4</td>\n",
       "      <td>0.0</td>\n",
       "      <td>192.0</td>\n",
       "      <td>0.0</td>\n",
       "      <td>978.4</td>\n",
       "      <td>825.5</td>\n",
       "      <td>360</td>\n",
       "    </tr>\n",
       "  </tbody>\n",
       "</table>\n",
       "</div>"
      ],
      "text/plain": [
       "   Cement  Blast Furnace Slag  Fly Ash  Water  Superplasticizer  \\\n",
       "0   540.0                 0.0      0.0  162.0               2.5   \n",
       "1   540.0                 0.0      0.0  162.0               2.5   \n",
       "2   332.5               142.5      0.0  228.0               0.0   \n",
       "3   332.5               142.5      0.0  228.0               0.0   \n",
       "4   198.6               132.4      0.0  192.0               0.0   \n",
       "\n",
       "   Coarse Aggregate  Fine Aggregate  Age  \n",
       "0            1040.0           676.0   28  \n",
       "1            1055.0           676.0   28  \n",
       "2             932.0           594.0  270  \n",
       "3             932.0           594.0  365  \n",
       "4             978.4           825.5  360  "
      ]
     },
     "execution_count": 8,
     "metadata": {},
     "output_type": "execute_result"
    }
   ],
   "source": [
    "predictors.head()"
   ]
  },
  {
   "cell_type": "code",
   "execution_count": 9,
   "metadata": {
    "scrolled": true
   },
   "outputs": [
    {
     "data": {
      "text/plain": [
       "0    79.99\n",
       "1    61.89\n",
       "2    40.27\n",
       "3    41.05\n",
       "4    44.30\n",
       "Name: Strength, dtype: float64"
      ]
     },
     "execution_count": 9,
     "metadata": {},
     "output_type": "execute_result"
    }
   ],
   "source": [
    "target.head()"
   ]
  },
  {
   "cell_type": "code",
   "execution_count": 10,
   "metadata": {},
   "outputs": [
    {
     "data": {
      "text/html": [
       "<div>\n",
       "<style scoped>\n",
       "    .dataframe tbody tr th:only-of-type {\n",
       "        vertical-align: middle;\n",
       "    }\n",
       "\n",
       "    .dataframe tbody tr th {\n",
       "        vertical-align: top;\n",
       "    }\n",
       "\n",
       "    .dataframe thead th {\n",
       "        text-align: right;\n",
       "    }\n",
       "</style>\n",
       "<table border=\"1\" class=\"dataframe\">\n",
       "  <thead>\n",
       "    <tr style=\"text-align: right;\">\n",
       "      <th></th>\n",
       "      <th>Cement</th>\n",
       "      <th>Blast Furnace Slag</th>\n",
       "      <th>Fly Ash</th>\n",
       "      <th>Water</th>\n",
       "      <th>Superplasticizer</th>\n",
       "      <th>Coarse Aggregate</th>\n",
       "      <th>Fine Aggregate</th>\n",
       "      <th>Age</th>\n",
       "    </tr>\n",
       "  </thead>\n",
       "  <tbody>\n",
       "    <tr>\n",
       "      <th>0</th>\n",
       "      <td>2.476712</td>\n",
       "      <td>-0.856472</td>\n",
       "      <td>-0.846733</td>\n",
       "      <td>-0.916319</td>\n",
       "      <td>-0.620147</td>\n",
       "      <td>0.862735</td>\n",
       "      <td>-1.217079</td>\n",
       "      <td>-0.279597</td>\n",
       "    </tr>\n",
       "    <tr>\n",
       "      <th>1</th>\n",
       "      <td>2.476712</td>\n",
       "      <td>-0.856472</td>\n",
       "      <td>-0.846733</td>\n",
       "      <td>-0.916319</td>\n",
       "      <td>-0.620147</td>\n",
       "      <td>1.055651</td>\n",
       "      <td>-1.217079</td>\n",
       "      <td>-0.279597</td>\n",
       "    </tr>\n",
       "    <tr>\n",
       "      <th>2</th>\n",
       "      <td>0.491187</td>\n",
       "      <td>0.795140</td>\n",
       "      <td>-0.846733</td>\n",
       "      <td>2.174405</td>\n",
       "      <td>-1.038638</td>\n",
       "      <td>-0.526262</td>\n",
       "      <td>-2.239829</td>\n",
       "      <td>3.551340</td>\n",
       "    </tr>\n",
       "    <tr>\n",
       "      <th>3</th>\n",
       "      <td>0.491187</td>\n",
       "      <td>0.795140</td>\n",
       "      <td>-0.846733</td>\n",
       "      <td>2.174405</td>\n",
       "      <td>-1.038638</td>\n",
       "      <td>-0.526262</td>\n",
       "      <td>-2.239829</td>\n",
       "      <td>5.055221</td>\n",
       "    </tr>\n",
       "    <tr>\n",
       "      <th>4</th>\n",
       "      <td>-0.790075</td>\n",
       "      <td>0.678079</td>\n",
       "      <td>-0.846733</td>\n",
       "      <td>0.488555</td>\n",
       "      <td>-1.038638</td>\n",
       "      <td>0.070492</td>\n",
       "      <td>0.647569</td>\n",
       "      <td>4.976069</td>\n",
       "    </tr>\n",
       "  </tbody>\n",
       "</table>\n",
       "</div>"
      ],
      "text/plain": [
       "     Cement  Blast Furnace Slag   Fly Ash     Water  Superplasticizer  \\\n",
       "0  2.476712           -0.856472 -0.846733 -0.916319         -0.620147   \n",
       "1  2.476712           -0.856472 -0.846733 -0.916319         -0.620147   \n",
       "2  0.491187            0.795140 -0.846733  2.174405         -1.038638   \n",
       "3  0.491187            0.795140 -0.846733  2.174405         -1.038638   \n",
       "4 -0.790075            0.678079 -0.846733  0.488555         -1.038638   \n",
       "\n",
       "   Coarse Aggregate  Fine Aggregate       Age  \n",
       "0          0.862735       -1.217079 -0.279597  \n",
       "1          1.055651       -1.217079 -0.279597  \n",
       "2         -0.526262       -2.239829  3.551340  \n",
       "3         -0.526262       -2.239829  5.055221  \n",
       "4          0.070492        0.647569  4.976069  "
      ]
     },
     "execution_count": 10,
     "metadata": {},
     "output_type": "execute_result"
    }
   ],
   "source": [
    "#normalize data\n",
    "predictors_norm = (predictors - predictors.mean()) / predictors.std()\n",
    "predictors_norm.head()"
   ]
  },
  {
   "cell_type": "code",
   "execution_count": 11,
   "metadata": {},
   "outputs": [],
   "source": [
    "n_cols = predictors_norm.shape[1] # number of predictors"
   ]
  },
  {
   "cell_type": "code",
   "execution_count": 12,
   "metadata": {},
   "outputs": [],
   "source": [
    "import keras"
   ]
  },
  {
   "cell_type": "code",
   "execution_count": 13,
   "metadata": {},
   "outputs": [],
   "source": [
    "from keras.models import Sequential\n",
    "from keras.layers import Dense"
   ]
  },
  {
   "cell_type": "code",
   "execution_count": 14,
   "metadata": {},
   "outputs": [],
   "source": [
    "# define regression model, 3 hidden layers\n",
    "def regression_model():\n",
    "    # create model\n",
    "    model = Sequential()\n",
    "    model.add(Dense(10, activation='relu', input_shape=(n_cols,)))\n",
    "    model.add(Dense(10, activation='relu'))\n",
    "    model.add(Dense(10, activation='relu'))\n",
    "    model.add(Dense(1))\n",
    "    \n",
    "    # compile model\n",
    "    model.compile(optimizer='adam', loss='mean_squared_error', metrics=['mean_squared_error'])\n",
    "    return model"
   ]
  },
  {
   "cell_type": "code",
   "execution_count": 15,
   "metadata": {},
   "outputs": [],
   "source": [
    "#split data train and test\n",
    "from sklearn.model_selection import train_test_split\n",
    "X_train, X_test, y_train, y_test = train_test_split(predictors_norm, target, test_size=0.3)"
   ]
  },
  {
   "cell_type": "code",
   "execution_count": 16,
   "metadata": {},
   "outputs": [],
   "source": [
    "# build the model\n",
    "model = regression_model()"
   ]
  },
  {
   "cell_type": "code",
   "execution_count": 17,
   "metadata": {},
   "outputs": [
    {
     "name": "stdout",
     "output_type": "stream",
     "text": [
      "Epoch 1/50\n",
      "23/23 - 0s - loss: 1548.0990 - mean_squared_error: 1548.0990\n",
      "Epoch 2/50\n",
      "23/23 - 0s - loss: 1533.2274 - mean_squared_error: 1533.2274\n",
      "Epoch 3/50\n",
      "23/23 - 0s - loss: 1512.8790 - mean_squared_error: 1512.8790\n",
      "Epoch 4/50\n",
      "23/23 - 0s - loss: 1478.9240 - mean_squared_error: 1478.9240\n",
      "Epoch 5/50\n",
      "23/23 - 0s - loss: 1421.7882 - mean_squared_error: 1421.7882\n",
      "Epoch 6/50\n",
      "23/23 - 0s - loss: 1334.2113 - mean_squared_error: 1334.2113\n",
      "Epoch 7/50\n",
      "23/23 - 0s - loss: 1209.8312 - mean_squared_error: 1209.8312\n",
      "Epoch 8/50\n",
      "23/23 - 0s - loss: 1040.5985 - mean_squared_error: 1040.5985\n",
      "Epoch 9/50\n",
      "23/23 - 0s - loss: 838.6134 - mean_squared_error: 838.6134\n",
      "Epoch 10/50\n",
      "23/23 - 0s - loss: 624.5369 - mean_squared_error: 624.5369\n",
      "Epoch 11/50\n",
      "23/23 - 0s - loss: 437.3908 - mean_squared_error: 437.3908\n",
      "Epoch 12/50\n",
      "23/23 - 0s - loss: 315.3848 - mean_squared_error: 315.3848\n",
      "Epoch 13/50\n",
      "23/23 - 0s - loss: 252.8057 - mean_squared_error: 252.8057\n",
      "Epoch 14/50\n",
      "23/23 - 0s - loss: 225.3789 - mean_squared_error: 225.3789\n",
      "Epoch 15/50\n",
      "23/23 - 0s - loss: 210.8175 - mean_squared_error: 210.8175\n",
      "Epoch 16/50\n",
      "23/23 - 0s - loss: 201.9781 - mean_squared_error: 201.9781\n",
      "Epoch 17/50\n",
      "23/23 - 0s - loss: 195.1547 - mean_squared_error: 195.1547\n",
      "Epoch 18/50\n",
      "23/23 - 0s - loss: 189.5261 - mean_squared_error: 189.5261\n",
      "Epoch 19/50\n",
      "23/23 - 0s - loss: 184.7039 - mean_squared_error: 184.7039\n",
      "Epoch 20/50\n",
      "23/23 - 0s - loss: 180.6092 - mean_squared_error: 180.6092\n",
      "Epoch 21/50\n",
      "23/23 - 0s - loss: 176.1743 - mean_squared_error: 176.1743\n",
      "Epoch 22/50\n",
      "23/23 - 0s - loss: 172.1671 - mean_squared_error: 172.1671\n",
      "Epoch 23/50\n",
      "23/23 - 0s - loss: 167.8694 - mean_squared_error: 167.8694\n",
      "Epoch 24/50\n",
      "23/23 - 0s - loss: 163.6320 - mean_squared_error: 163.6320\n",
      "Epoch 25/50\n",
      "23/23 - 0s - loss: 159.7968 - mean_squared_error: 159.7968\n",
      "Epoch 26/50\n",
      "23/23 - 0s - loss: 155.7675 - mean_squared_error: 155.7675\n",
      "Epoch 27/50\n",
      "23/23 - 0s - loss: 151.5535 - mean_squared_error: 151.5535\n",
      "Epoch 28/50\n",
      "23/23 - 0s - loss: 148.1759 - mean_squared_error: 148.1759\n",
      "Epoch 29/50\n",
      "23/23 - 0s - loss: 143.9873 - mean_squared_error: 143.9873\n",
      "Epoch 30/50\n",
      "23/23 - 0s - loss: 139.9865 - mean_squared_error: 139.9865\n",
      "Epoch 31/50\n",
      "23/23 - 0s - loss: 135.5982 - mean_squared_error: 135.5982\n",
      "Epoch 32/50\n",
      "23/23 - 0s - loss: 131.7046 - mean_squared_error: 131.7046\n",
      "Epoch 33/50\n",
      "23/23 - 0s - loss: 127.9843 - mean_squared_error: 127.9843\n",
      "Epoch 34/50\n",
      "23/23 - 0s - loss: 124.5283 - mean_squared_error: 124.5283\n",
      "Epoch 35/50\n",
      "23/23 - 0s - loss: 121.0016 - mean_squared_error: 121.0016\n",
      "Epoch 36/50\n",
      "23/23 - 0s - loss: 117.8362 - mean_squared_error: 117.8362\n",
      "Epoch 37/50\n",
      "23/23 - 0s - loss: 114.5247 - mean_squared_error: 114.5247\n",
      "Epoch 38/50\n",
      "23/23 - 0s - loss: 111.5757 - mean_squared_error: 111.5757\n",
      "Epoch 39/50\n",
      "23/23 - 0s - loss: 108.6783 - mean_squared_error: 108.6783\n",
      "Epoch 40/50\n",
      "23/23 - 0s - loss: 105.6427 - mean_squared_error: 105.6427\n",
      "Epoch 41/50\n",
      "23/23 - 0s - loss: 103.2566 - mean_squared_error: 103.2566\n",
      "Epoch 42/50\n",
      "23/23 - 0s - loss: 100.4306 - mean_squared_error: 100.4306\n",
      "Epoch 43/50\n",
      "23/23 - 0s - loss: 98.0241 - mean_squared_error: 98.0241\n",
      "Epoch 44/50\n",
      "23/23 - 0s - loss: 95.8154 - mean_squared_error: 95.8154\n",
      "Epoch 45/50\n",
      "23/23 - 0s - loss: 93.8643 - mean_squared_error: 93.8643\n",
      "Epoch 46/50\n",
      "23/23 - 0s - loss: 91.8724 - mean_squared_error: 91.8724\n",
      "Epoch 47/50\n",
      "23/23 - 0s - loss: 89.7976 - mean_squared_error: 89.7976\n",
      "Epoch 48/50\n",
      "23/23 - 0s - loss: 88.9343 - mean_squared_error: 88.9343\n",
      "Epoch 49/50\n",
      "23/23 - 0s - loss: 86.9812 - mean_squared_error: 86.9812\n",
      "Epoch 50/50\n",
      "23/23 - 0s - loss: 84.9976 - mean_squared_error: 84.9976\n"
     ]
    },
    {
     "data": {
      "text/plain": [
       "<tensorflow.python.keras.callbacks.History at 0x231c52261f0>"
      ]
     },
     "execution_count": 17,
     "metadata": {},
     "output_type": "execute_result"
    }
   ],
   "source": [
    "# fit the model using data train\n",
    "model.fit(X_train, y_train, epochs=50, verbose=2)\n",
    "\n"
   ]
  },
  {
   "cell_type": "code",
   "execution_count": 18,
   "metadata": {
    "scrolled": true
   },
   "outputs": [
    {
     "name": "stdout",
     "output_type": "stream",
     "text": [
      "MSE: 94.31624603271484\n"
     ]
    }
   ],
   "source": [
    "# evaluate the model using data test\n",
    "scores = model.evaluate(X_test, y_test, verbose=0)\n",
    "print(\"MSE: {}\".format(scores[0]))"
   ]
  },
  {
   "cell_type": "code",
   "execution_count": 19,
   "metadata": {},
   "outputs": [
    {
     "name": "stdout",
     "output_type": "stream",
     "text": [
      "MSE: 94.31623876867789\n"
     ]
    }
   ],
   "source": [
    "# evaluate the model using data test with sklearn \n",
    "from sklearn.metrics import mean_squared_error\n",
    "y_pred= model.predict(X_test)\n",
    "\n",
    "print(\"MSE: {}\".format(mean_squared_error(y_test, y_pred)))"
   ]
  },
  {
   "cell_type": "code",
   "execution_count": 20,
   "metadata": {},
   "outputs": [
    {
     "name": "stdout",
     "output_type": "stream",
     "text": [
      "10/10 [==============================] - 0s 1ms/step - loss: 103.1994 - mean_squared_error: 103.1994\n",
      "10/10 [==============================] - 0s 1ms/step - loss: 104.5662 - mean_squared_error: 104.5662\n",
      "10/10 [==============================] - 0s 1ms/step - loss: 156.0660 - mean_squared_error: 156.0660\n",
      "10/10 [==============================] - 0s 2ms/step - loss: 110.9753 - mean_squared_error: 110.9753\n",
      "10/10 [==============================] - 0s 2ms/step - loss: 89.1752 - mean_squared_error: 89.1752\n",
      "10/10 [==============================] - 0s 2ms/step - loss: 145.9806 - mean_squared_error: 145.9806\n",
      "10/10 [==============================] - 0s 925us/step - loss: 100.3470 - mean_squared_error: 100.3470\n",
      "10/10 [==============================] - 0s 791us/step - loss: 118.0961 - mean_squared_error: 118.0961\n",
      "10/10 [==============================] - 0s 2ms/step - loss: 134.5184 - mean_squared_error: 134.5184\n",
      "10/10 [==============================] - 0s 2ms/step - loss: 68.2642 - mean_squared_error: 68.2642\n",
      "10/10 [==============================] - 0s 1ms/step - loss: 50.7628 - mean_squared_error: 50.7628\n",
      "10/10 [==============================] - 0s 839us/step - loss: 123.8612 - mean_squared_error: 123.8612\n",
      "10/10 [==============================] - 0s 2ms/step - loss: 110.6478 - mean_squared_error: 110.6478\n",
      "10/10 [==============================] - 0s 861us/step - loss: 142.4843 - mean_squared_error: 142.4843\n",
      "10/10 [==============================] - 0s 2ms/step - loss: 94.8005 - mean_squared_error: 94.8005\n",
      "10/10 [==============================] - 0s 827us/step - loss: 1597.6459 - mean_squared_error: 1597.6459\n",
      "10/10 [==============================] - 0s 1ms/step - loss: 103.0112 - mean_squared_error: 103.0112\n",
      "10/10 [==============================] - 0s 1ms/step - loss: 99.1043 - mean_squared_error: 99.1043\n",
      "10/10 [==============================] - 0s 1ms/step - loss: 103.1570 - mean_squared_error: 103.1570\n",
      "10/10 [==============================] - 0s 779us/step - loss: 97.0802 - mean_squared_error: 97.0802\n",
      "10/10 [==============================] - 0s 667us/step - loss: 136.7163 - mean_squared_error: 136.7163\n",
      "10/10 [==============================] - 0s 1ms/step - loss: 75.9451 - mean_squared_error: 75.9451\n",
      "10/10 [==============================] - 0s 1ms/step - loss: 98.1222 - mean_squared_error: 98.1222\n",
      "10/10 [==============================] - 0s 759us/step - loss: 77.3635 - mean_squared_error: 77.3635\n",
      "10/10 [==============================] - 0s 704us/step - loss: 105.9393 - mean_squared_error: 105.9393\n",
      "10/10 [==============================] - 0s 2ms/step - loss: 184.2402 - mean_squared_error: 184.2402\n",
      "10/10 [==============================] - 0s 1ms/step - loss: 116.9707 - mean_squared_error: 116.9707\n",
      "10/10 [==============================] - 0s 667us/step - loss: 72.0992 - mean_squared_error: 72.0992\n",
      "10/10 [==============================] - 0s 2ms/step - loss: 198.4807 - mean_squared_error: 198.4807\n",
      "10/10 [==============================] - 0s 734us/step - loss: 108.5982 - mean_squared_error: 108.5982\n",
      "10/10 [==============================] - 0s 2ms/step - loss: 80.3722 - mean_squared_error: 80.3722\n",
      "10/10 [==============================] - 0s 1ms/step - loss: 90.8873 - mean_squared_error: 90.8873\n",
      "10/10 [==============================] - 0s 1ms/step - loss: 68.2816 - mean_squared_error: 68.2816\n",
      "10/10 [==============================] - 0s 2ms/step - loss: 109.7248 - mean_squared_error: 109.7248\n",
      "10/10 [==============================] - 0s 1ms/step - loss: 76.9308 - mean_squared_error: 76.9308\n",
      "10/10 [==============================] - 0s 2ms/step - loss: 101.4506 - mean_squared_error: 101.4506\n",
      "10/10 [==============================] - 0s 1ms/step - loss: 62.2450 - mean_squared_error: 62.2450\n",
      "10/10 [==============================] - 0s 663us/step - loss: 81.5642 - mean_squared_error: 81.5642\n",
      "10/10 [==============================] - 0s 2ms/step - loss: 191.0393 - mean_squared_error: 191.0393\n",
      "10/10 [==============================] - 0s 668us/step - loss: 117.7254 - mean_squared_error: 117.7254\n",
      "10/10 [==============================] - 0s 1ms/step - loss: 113.0948 - mean_squared_error: 113.0948\n",
      "10/10 [==============================] - 0s 777us/step - loss: 108.1813 - mean_squared_error: 108.1813\n",
      "10/10 [==============================] - 0s 668us/step - loss: 136.7997 - mean_squared_error: 136.7997\n",
      "10/10 [==============================] - 0s 907us/step - loss: 92.9947 - mean_squared_error: 92.9947\n",
      "10/10 [==============================] - 0s 848us/step - loss: 90.2856 - mean_squared_error: 90.2856\n",
      "10/10 [==============================] - 0s 1ms/step - loss: 58.5078 - mean_squared_error: 58.5078\n",
      "10/10 [==============================] - 0s 2ms/step - loss: 70.9771 - mean_squared_error: 70.9771\n",
      "10/10 [==============================] - 0s 2ms/step - loss: 78.4118 - mean_squared_error: 78.4118\n",
      "10/10 [==============================] - 0s 2ms/step - loss: 109.5427 - mean_squared_error: 109.5427\n"
     ]
    }
   ],
   "source": [
    "#Repeat steps 1 - 3, 50 times, i.e., create a list of 50 mean squared errors.\n",
    "MSE_scores=[]\n",
    "\n",
    "for i in range(1,50):\n",
    "        X_train, X_test, y_train, y_test = train_test_split(predictors, target, test_size=0.3) #split data\n",
    "        model = regression_model()\n",
    "        model.fit(X_train, y_train, epochs=50, verbose=0) #train model on training data using 50 epoc\n",
    "        scores = model.evaluate(X_test, y_test, verbose=1)\n",
    "        MSE_scores.append(scores[0])\n",
    "\n",
    "\n",
    "\n"
   ]
  },
  {
   "cell_type": "code",
   "execution_count": 21,
   "metadata": {
    "scrolled": true
   },
   "outputs": [
    {
     "name": "stdout",
     "output_type": "stream",
     "text": [
      "mean_MSE: 136.06603240966797 \n",
      " STD_MSE: 213.3296348916927\n"
     ]
    }
   ],
   "source": [
    "mean_MSE=np.mean(MSE_scores)\n",
    "STD_MSE=np.std(MSE_scores)\n",
    "\n",
    "#Report the mean and the standard deviation of the mean squared errors.\n",
    "print('mean_MSE: {} \\n STD_MSE: {}'.format(mean_MSE, STD_MSE))\n",
    "        "
   ]
  },
  {
   "cell_type": "markdown",
   "metadata": {},
   "source": [
    "How does the mean of the mean squared errors compare to that from Step A?\n",
    "\n",
    "In comparison with Part(B), mean and STD were decreased.\n",
    "\n"
   ]
  }
 ],
 "metadata": {
  "kernelspec": {
   "display_name": "Python 3",
   "language": "python",
   "name": "python3"
  },
  "language_info": {
   "codemirror_mode": {
    "name": "ipython",
    "version": 3
   },
   "file_extension": ".py",
   "mimetype": "text/x-python",
   "name": "python",
   "nbconvert_exporter": "python",
   "pygments_lexer": "ipython3",
   "version": "3.8.5"
  }
 },
 "nbformat": 4,
 "nbformat_minor": 4
}
