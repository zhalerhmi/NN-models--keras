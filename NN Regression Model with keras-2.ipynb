{
 "cells": [
  {
   "cell_type": "code",
   "execution_count": 22,
   "metadata": {},
   "outputs": [],
   "source": [
    "#!pip install keras"
   ]
  },
  {
   "cell_type": "code",
   "execution_count": 23,
   "metadata": {},
   "outputs": [],
   "source": [
    "import pandas as pd\n",
    "import numpy as np\n"
   ]
  },
  {
   "cell_type": "code",
   "execution_count": 24,
   "metadata": {},
   "outputs": [
    {
     "data": {
      "text/html": [
       "<div>\n",
       "<style scoped>\n",
       "    .dataframe tbody tr th:only-of-type {\n",
       "        vertical-align: middle;\n",
       "    }\n",
       "\n",
       "    .dataframe tbody tr th {\n",
       "        vertical-align: top;\n",
       "    }\n",
       "\n",
       "    .dataframe thead th {\n",
       "        text-align: right;\n",
       "    }\n",
       "</style>\n",
       "<table border=\"1\" class=\"dataframe\">\n",
       "  <thead>\n",
       "    <tr style=\"text-align: right;\">\n",
       "      <th></th>\n",
       "      <th>Cement</th>\n",
       "      <th>Blast Furnace Slag</th>\n",
       "      <th>Fly Ash</th>\n",
       "      <th>Water</th>\n",
       "      <th>Superplasticizer</th>\n",
       "      <th>Coarse Aggregate</th>\n",
       "      <th>Fine Aggregate</th>\n",
       "      <th>Age</th>\n",
       "      <th>Strength</th>\n",
       "    </tr>\n",
       "  </thead>\n",
       "  <tbody>\n",
       "    <tr>\n",
       "      <th>0</th>\n",
       "      <td>540.0</td>\n",
       "      <td>0.0</td>\n",
       "      <td>0.0</td>\n",
       "      <td>162.0</td>\n",
       "      <td>2.5</td>\n",
       "      <td>1040.0</td>\n",
       "      <td>676.0</td>\n",
       "      <td>28</td>\n",
       "      <td>79.99</td>\n",
       "    </tr>\n",
       "    <tr>\n",
       "      <th>1</th>\n",
       "      <td>540.0</td>\n",
       "      <td>0.0</td>\n",
       "      <td>0.0</td>\n",
       "      <td>162.0</td>\n",
       "      <td>2.5</td>\n",
       "      <td>1055.0</td>\n",
       "      <td>676.0</td>\n",
       "      <td>28</td>\n",
       "      <td>61.89</td>\n",
       "    </tr>\n",
       "    <tr>\n",
       "      <th>2</th>\n",
       "      <td>332.5</td>\n",
       "      <td>142.5</td>\n",
       "      <td>0.0</td>\n",
       "      <td>228.0</td>\n",
       "      <td>0.0</td>\n",
       "      <td>932.0</td>\n",
       "      <td>594.0</td>\n",
       "      <td>270</td>\n",
       "      <td>40.27</td>\n",
       "    </tr>\n",
       "    <tr>\n",
       "      <th>3</th>\n",
       "      <td>332.5</td>\n",
       "      <td>142.5</td>\n",
       "      <td>0.0</td>\n",
       "      <td>228.0</td>\n",
       "      <td>0.0</td>\n",
       "      <td>932.0</td>\n",
       "      <td>594.0</td>\n",
       "      <td>365</td>\n",
       "      <td>41.05</td>\n",
       "    </tr>\n",
       "    <tr>\n",
       "      <th>4</th>\n",
       "      <td>198.6</td>\n",
       "      <td>132.4</td>\n",
       "      <td>0.0</td>\n",
       "      <td>192.0</td>\n",
       "      <td>0.0</td>\n",
       "      <td>978.4</td>\n",
       "      <td>825.5</td>\n",
       "      <td>360</td>\n",
       "      <td>44.30</td>\n",
       "    </tr>\n",
       "  </tbody>\n",
       "</table>\n",
       "</div>"
      ],
      "text/plain": [
       "   Cement  Blast Furnace Slag  Fly Ash  Water  Superplasticizer  \\\n",
       "0   540.0                 0.0      0.0  162.0               2.5   \n",
       "1   540.0                 0.0      0.0  162.0               2.5   \n",
       "2   332.5               142.5      0.0  228.0               0.0   \n",
       "3   332.5               142.5      0.0  228.0               0.0   \n",
       "4   198.6               132.4      0.0  192.0               0.0   \n",
       "\n",
       "   Coarse Aggregate  Fine Aggregate  Age  Strength  \n",
       "0            1040.0           676.0   28     79.99  \n",
       "1            1055.0           676.0   28     61.89  \n",
       "2             932.0           594.0  270     40.27  \n",
       "3             932.0           594.0  365     41.05  \n",
       "4             978.4           825.5  360     44.30  "
      ]
     },
     "execution_count": 24,
     "metadata": {},
     "output_type": "execute_result"
    }
   ],
   "source": [
    "#load data\n",
    "concrete_data = pd.read_csv('https://s3-api.us-geo.objectstorage.softlayer.net/cf-courses-data/CognitiveClass/DL0101EN/labs/data/concrete_data.csv')\n",
    "concrete_data.head()"
   ]
  },
  {
   "cell_type": "code",
   "execution_count": 25,
   "metadata": {},
   "outputs": [
    {
     "data": {
      "text/plain": [
       "(1030, 9)"
      ]
     },
     "execution_count": 25,
     "metadata": {},
     "output_type": "execute_result"
    }
   ],
   "source": [
    "concrete_data.shape"
   ]
  },
  {
   "cell_type": "code",
   "execution_count": 26,
   "metadata": {},
   "outputs": [
    {
     "data": {
      "text/html": [
       "<div>\n",
       "<style scoped>\n",
       "    .dataframe tbody tr th:only-of-type {\n",
       "        vertical-align: middle;\n",
       "    }\n",
       "\n",
       "    .dataframe tbody tr th {\n",
       "        vertical-align: top;\n",
       "    }\n",
       "\n",
       "    .dataframe thead th {\n",
       "        text-align: right;\n",
       "    }\n",
       "</style>\n",
       "<table border=\"1\" class=\"dataframe\">\n",
       "  <thead>\n",
       "    <tr style=\"text-align: right;\">\n",
       "      <th></th>\n",
       "      <th>Cement</th>\n",
       "      <th>Blast Furnace Slag</th>\n",
       "      <th>Fly Ash</th>\n",
       "      <th>Water</th>\n",
       "      <th>Superplasticizer</th>\n",
       "      <th>Coarse Aggregate</th>\n",
       "      <th>Fine Aggregate</th>\n",
       "      <th>Age</th>\n",
       "      <th>Strength</th>\n",
       "    </tr>\n",
       "  </thead>\n",
       "  <tbody>\n",
       "    <tr>\n",
       "      <th>count</th>\n",
       "      <td>1030.000000</td>\n",
       "      <td>1030.000000</td>\n",
       "      <td>1030.000000</td>\n",
       "      <td>1030.000000</td>\n",
       "      <td>1030.000000</td>\n",
       "      <td>1030.000000</td>\n",
       "      <td>1030.000000</td>\n",
       "      <td>1030.000000</td>\n",
       "      <td>1030.000000</td>\n",
       "    </tr>\n",
       "    <tr>\n",
       "      <th>mean</th>\n",
       "      <td>281.167864</td>\n",
       "      <td>73.895825</td>\n",
       "      <td>54.188350</td>\n",
       "      <td>181.567282</td>\n",
       "      <td>6.204660</td>\n",
       "      <td>972.918932</td>\n",
       "      <td>773.580485</td>\n",
       "      <td>45.662136</td>\n",
       "      <td>35.817961</td>\n",
       "    </tr>\n",
       "    <tr>\n",
       "      <th>std</th>\n",
       "      <td>104.506364</td>\n",
       "      <td>86.279342</td>\n",
       "      <td>63.997004</td>\n",
       "      <td>21.354219</td>\n",
       "      <td>5.973841</td>\n",
       "      <td>77.753954</td>\n",
       "      <td>80.175980</td>\n",
       "      <td>63.169912</td>\n",
       "      <td>16.705742</td>\n",
       "    </tr>\n",
       "    <tr>\n",
       "      <th>min</th>\n",
       "      <td>102.000000</td>\n",
       "      <td>0.000000</td>\n",
       "      <td>0.000000</td>\n",
       "      <td>121.800000</td>\n",
       "      <td>0.000000</td>\n",
       "      <td>801.000000</td>\n",
       "      <td>594.000000</td>\n",
       "      <td>1.000000</td>\n",
       "      <td>2.330000</td>\n",
       "    </tr>\n",
       "    <tr>\n",
       "      <th>25%</th>\n",
       "      <td>192.375000</td>\n",
       "      <td>0.000000</td>\n",
       "      <td>0.000000</td>\n",
       "      <td>164.900000</td>\n",
       "      <td>0.000000</td>\n",
       "      <td>932.000000</td>\n",
       "      <td>730.950000</td>\n",
       "      <td>7.000000</td>\n",
       "      <td>23.710000</td>\n",
       "    </tr>\n",
       "    <tr>\n",
       "      <th>50%</th>\n",
       "      <td>272.900000</td>\n",
       "      <td>22.000000</td>\n",
       "      <td>0.000000</td>\n",
       "      <td>185.000000</td>\n",
       "      <td>6.400000</td>\n",
       "      <td>968.000000</td>\n",
       "      <td>779.500000</td>\n",
       "      <td>28.000000</td>\n",
       "      <td>34.445000</td>\n",
       "    </tr>\n",
       "    <tr>\n",
       "      <th>75%</th>\n",
       "      <td>350.000000</td>\n",
       "      <td>142.950000</td>\n",
       "      <td>118.300000</td>\n",
       "      <td>192.000000</td>\n",
       "      <td>10.200000</td>\n",
       "      <td>1029.400000</td>\n",
       "      <td>824.000000</td>\n",
       "      <td>56.000000</td>\n",
       "      <td>46.135000</td>\n",
       "    </tr>\n",
       "    <tr>\n",
       "      <th>max</th>\n",
       "      <td>540.000000</td>\n",
       "      <td>359.400000</td>\n",
       "      <td>200.100000</td>\n",
       "      <td>247.000000</td>\n",
       "      <td>32.200000</td>\n",
       "      <td>1145.000000</td>\n",
       "      <td>992.600000</td>\n",
       "      <td>365.000000</td>\n",
       "      <td>82.600000</td>\n",
       "    </tr>\n",
       "  </tbody>\n",
       "</table>\n",
       "</div>"
      ],
      "text/plain": [
       "            Cement  Blast Furnace Slag      Fly Ash        Water  \\\n",
       "count  1030.000000         1030.000000  1030.000000  1030.000000   \n",
       "mean    281.167864           73.895825    54.188350   181.567282   \n",
       "std     104.506364           86.279342    63.997004    21.354219   \n",
       "min     102.000000            0.000000     0.000000   121.800000   \n",
       "25%     192.375000            0.000000     0.000000   164.900000   \n",
       "50%     272.900000           22.000000     0.000000   185.000000   \n",
       "75%     350.000000          142.950000   118.300000   192.000000   \n",
       "max     540.000000          359.400000   200.100000   247.000000   \n",
       "\n",
       "       Superplasticizer  Coarse Aggregate  Fine Aggregate          Age  \\\n",
       "count       1030.000000       1030.000000     1030.000000  1030.000000   \n",
       "mean           6.204660        972.918932      773.580485    45.662136   \n",
       "std            5.973841         77.753954       80.175980    63.169912   \n",
       "min            0.000000        801.000000      594.000000     1.000000   \n",
       "25%            0.000000        932.000000      730.950000     7.000000   \n",
       "50%            6.400000        968.000000      779.500000    28.000000   \n",
       "75%           10.200000       1029.400000      824.000000    56.000000   \n",
       "max           32.200000       1145.000000      992.600000   365.000000   \n",
       "\n",
       "          Strength  \n",
       "count  1030.000000  \n",
       "mean     35.817961  \n",
       "std      16.705742  \n",
       "min       2.330000  \n",
       "25%      23.710000  \n",
       "50%      34.445000  \n",
       "75%      46.135000  \n",
       "max      82.600000  "
      ]
     },
     "execution_count": 26,
     "metadata": {},
     "output_type": "execute_result"
    }
   ],
   "source": [
    "concrete_data.describe()"
   ]
  },
  {
   "cell_type": "code",
   "execution_count": 27,
   "metadata": {},
   "outputs": [
    {
     "data": {
      "text/plain": [
       "Cement                0\n",
       "Blast Furnace Slag    0\n",
       "Fly Ash               0\n",
       "Water                 0\n",
       "Superplasticizer      0\n",
       "Coarse Aggregate      0\n",
       "Fine Aggregate        0\n",
       "Age                   0\n",
       "Strength              0\n",
       "dtype: int64"
      ]
     },
     "execution_count": 27,
     "metadata": {},
     "output_type": "execute_result"
    }
   ],
   "source": [
    "concrete_data.isnull().sum()"
   ]
  },
  {
   "cell_type": "code",
   "execution_count": 28,
   "metadata": {},
   "outputs": [],
   "source": [
    "#split predictors and target\n",
    "concrete_data_columns = concrete_data.columns\n",
    "predictors = concrete_data[concrete_data_columns[concrete_data_columns != 'Strength']] # all columns except Strength\n",
    "target = concrete_data['Strength'] # Strength column"
   ]
  },
  {
   "cell_type": "code",
   "execution_count": 29,
   "metadata": {},
   "outputs": [
    {
     "data": {
      "text/html": [
       "<div>\n",
       "<style scoped>\n",
       "    .dataframe tbody tr th:only-of-type {\n",
       "        vertical-align: middle;\n",
       "    }\n",
       "\n",
       "    .dataframe tbody tr th {\n",
       "        vertical-align: top;\n",
       "    }\n",
       "\n",
       "    .dataframe thead th {\n",
       "        text-align: right;\n",
       "    }\n",
       "</style>\n",
       "<table border=\"1\" class=\"dataframe\">\n",
       "  <thead>\n",
       "    <tr style=\"text-align: right;\">\n",
       "      <th></th>\n",
       "      <th>Cement</th>\n",
       "      <th>Blast Furnace Slag</th>\n",
       "      <th>Fly Ash</th>\n",
       "      <th>Water</th>\n",
       "      <th>Superplasticizer</th>\n",
       "      <th>Coarse Aggregate</th>\n",
       "      <th>Fine Aggregate</th>\n",
       "      <th>Age</th>\n",
       "    </tr>\n",
       "  </thead>\n",
       "  <tbody>\n",
       "    <tr>\n",
       "      <th>0</th>\n",
       "      <td>540.0</td>\n",
       "      <td>0.0</td>\n",
       "      <td>0.0</td>\n",
       "      <td>162.0</td>\n",
       "      <td>2.5</td>\n",
       "      <td>1040.0</td>\n",
       "      <td>676.0</td>\n",
       "      <td>28</td>\n",
       "    </tr>\n",
       "    <tr>\n",
       "      <th>1</th>\n",
       "      <td>540.0</td>\n",
       "      <td>0.0</td>\n",
       "      <td>0.0</td>\n",
       "      <td>162.0</td>\n",
       "      <td>2.5</td>\n",
       "      <td>1055.0</td>\n",
       "      <td>676.0</td>\n",
       "      <td>28</td>\n",
       "    </tr>\n",
       "    <tr>\n",
       "      <th>2</th>\n",
       "      <td>332.5</td>\n",
       "      <td>142.5</td>\n",
       "      <td>0.0</td>\n",
       "      <td>228.0</td>\n",
       "      <td>0.0</td>\n",
       "      <td>932.0</td>\n",
       "      <td>594.0</td>\n",
       "      <td>270</td>\n",
       "    </tr>\n",
       "    <tr>\n",
       "      <th>3</th>\n",
       "      <td>332.5</td>\n",
       "      <td>142.5</td>\n",
       "      <td>0.0</td>\n",
       "      <td>228.0</td>\n",
       "      <td>0.0</td>\n",
       "      <td>932.0</td>\n",
       "      <td>594.0</td>\n",
       "      <td>365</td>\n",
       "    </tr>\n",
       "    <tr>\n",
       "      <th>4</th>\n",
       "      <td>198.6</td>\n",
       "      <td>132.4</td>\n",
       "      <td>0.0</td>\n",
       "      <td>192.0</td>\n",
       "      <td>0.0</td>\n",
       "      <td>978.4</td>\n",
       "      <td>825.5</td>\n",
       "      <td>360</td>\n",
       "    </tr>\n",
       "  </tbody>\n",
       "</table>\n",
       "</div>"
      ],
      "text/plain": [
       "   Cement  Blast Furnace Slag  Fly Ash  Water  Superplasticizer  \\\n",
       "0   540.0                 0.0      0.0  162.0               2.5   \n",
       "1   540.0                 0.0      0.0  162.0               2.5   \n",
       "2   332.5               142.5      0.0  228.0               0.0   \n",
       "3   332.5               142.5      0.0  228.0               0.0   \n",
       "4   198.6               132.4      0.0  192.0               0.0   \n",
       "\n",
       "   Coarse Aggregate  Fine Aggregate  Age  \n",
       "0            1040.0           676.0   28  \n",
       "1            1055.0           676.0   28  \n",
       "2             932.0           594.0  270  \n",
       "3             932.0           594.0  365  \n",
       "4             978.4           825.5  360  "
      ]
     },
     "execution_count": 29,
     "metadata": {},
     "output_type": "execute_result"
    }
   ],
   "source": [
    "predictors.head()"
   ]
  },
  {
   "cell_type": "code",
   "execution_count": 30,
   "metadata": {
    "scrolled": true
   },
   "outputs": [
    {
     "data": {
      "text/plain": [
       "0    79.99\n",
       "1    61.89\n",
       "2    40.27\n",
       "3    41.05\n",
       "4    44.30\n",
       "Name: Strength, dtype: float64"
      ]
     },
     "execution_count": 30,
     "metadata": {},
     "output_type": "execute_result"
    }
   ],
   "source": [
    "target.head()"
   ]
  },
  {
   "cell_type": "code",
   "execution_count": 31,
   "metadata": {},
   "outputs": [
    {
     "data": {
      "text/html": [
       "<div>\n",
       "<style scoped>\n",
       "    .dataframe tbody tr th:only-of-type {\n",
       "        vertical-align: middle;\n",
       "    }\n",
       "\n",
       "    .dataframe tbody tr th {\n",
       "        vertical-align: top;\n",
       "    }\n",
       "\n",
       "    .dataframe thead th {\n",
       "        text-align: right;\n",
       "    }\n",
       "</style>\n",
       "<table border=\"1\" class=\"dataframe\">\n",
       "  <thead>\n",
       "    <tr style=\"text-align: right;\">\n",
       "      <th></th>\n",
       "      <th>Cement</th>\n",
       "      <th>Blast Furnace Slag</th>\n",
       "      <th>Fly Ash</th>\n",
       "      <th>Water</th>\n",
       "      <th>Superplasticizer</th>\n",
       "      <th>Coarse Aggregate</th>\n",
       "      <th>Fine Aggregate</th>\n",
       "      <th>Age</th>\n",
       "    </tr>\n",
       "  </thead>\n",
       "  <tbody>\n",
       "    <tr>\n",
       "      <th>0</th>\n",
       "      <td>2.476712</td>\n",
       "      <td>-0.856472</td>\n",
       "      <td>-0.846733</td>\n",
       "      <td>-0.916319</td>\n",
       "      <td>-0.620147</td>\n",
       "      <td>0.862735</td>\n",
       "      <td>-1.217079</td>\n",
       "      <td>-0.279597</td>\n",
       "    </tr>\n",
       "    <tr>\n",
       "      <th>1</th>\n",
       "      <td>2.476712</td>\n",
       "      <td>-0.856472</td>\n",
       "      <td>-0.846733</td>\n",
       "      <td>-0.916319</td>\n",
       "      <td>-0.620147</td>\n",
       "      <td>1.055651</td>\n",
       "      <td>-1.217079</td>\n",
       "      <td>-0.279597</td>\n",
       "    </tr>\n",
       "    <tr>\n",
       "      <th>2</th>\n",
       "      <td>0.491187</td>\n",
       "      <td>0.795140</td>\n",
       "      <td>-0.846733</td>\n",
       "      <td>2.174405</td>\n",
       "      <td>-1.038638</td>\n",
       "      <td>-0.526262</td>\n",
       "      <td>-2.239829</td>\n",
       "      <td>3.551340</td>\n",
       "    </tr>\n",
       "    <tr>\n",
       "      <th>3</th>\n",
       "      <td>0.491187</td>\n",
       "      <td>0.795140</td>\n",
       "      <td>-0.846733</td>\n",
       "      <td>2.174405</td>\n",
       "      <td>-1.038638</td>\n",
       "      <td>-0.526262</td>\n",
       "      <td>-2.239829</td>\n",
       "      <td>5.055221</td>\n",
       "    </tr>\n",
       "    <tr>\n",
       "      <th>4</th>\n",
       "      <td>-0.790075</td>\n",
       "      <td>0.678079</td>\n",
       "      <td>-0.846733</td>\n",
       "      <td>0.488555</td>\n",
       "      <td>-1.038638</td>\n",
       "      <td>0.070492</td>\n",
       "      <td>0.647569</td>\n",
       "      <td>4.976069</td>\n",
       "    </tr>\n",
       "  </tbody>\n",
       "</table>\n",
       "</div>"
      ],
      "text/plain": [
       "     Cement  Blast Furnace Slag   Fly Ash     Water  Superplasticizer  \\\n",
       "0  2.476712           -0.856472 -0.846733 -0.916319         -0.620147   \n",
       "1  2.476712           -0.856472 -0.846733 -0.916319         -0.620147   \n",
       "2  0.491187            0.795140 -0.846733  2.174405         -1.038638   \n",
       "3  0.491187            0.795140 -0.846733  2.174405         -1.038638   \n",
       "4 -0.790075            0.678079 -0.846733  0.488555         -1.038638   \n",
       "\n",
       "   Coarse Aggregate  Fine Aggregate       Age  \n",
       "0          0.862735       -1.217079 -0.279597  \n",
       "1          1.055651       -1.217079 -0.279597  \n",
       "2         -0.526262       -2.239829  3.551340  \n",
       "3         -0.526262       -2.239829  5.055221  \n",
       "4          0.070492        0.647569  4.976069  "
      ]
     },
     "execution_count": 31,
     "metadata": {},
     "output_type": "execute_result"
    }
   ],
   "source": [
    "#normalize data\n",
    "predictors_norm = (predictors - predictors.mean()) / predictors.std()\n",
    "predictors_norm.head()"
   ]
  },
  {
   "cell_type": "code",
   "execution_count": 32,
   "metadata": {},
   "outputs": [],
   "source": [
    "n_cols = predictors_norm.shape[1] # number of predictors"
   ]
  },
  {
   "cell_type": "code",
   "execution_count": 33,
   "metadata": {},
   "outputs": [],
   "source": [
    "import keras"
   ]
  },
  {
   "cell_type": "code",
   "execution_count": 34,
   "metadata": {},
   "outputs": [],
   "source": [
    "from keras.models import Sequential\n",
    "from keras.layers import Dense"
   ]
  },
  {
   "cell_type": "code",
   "execution_count": 35,
   "metadata": {},
   "outputs": [],
   "source": [
    "# define regression model\n",
    "def regression_model():\n",
    "    # create model\n",
    "    model = Sequential()\n",
    "    model.add(Dense(10, activation='relu', input_shape=(n_cols,)))\n",
    "    \n",
    "    model.add(Dense(1))\n",
    "    \n",
    "    # compile model\n",
    "    model.compile(optimizer='adam', loss='mean_squared_error', metrics=['mean_squared_error'])\n",
    "    return model"
   ]
  },
  {
   "cell_type": "code",
   "execution_count": 36,
   "metadata": {},
   "outputs": [],
   "source": [
    "#split data train and test\n",
    "from sklearn.model_selection import train_test_split\n",
    "X_train, X_test, y_train, y_test = train_test_split(predictors_norm, target, test_size=0.3)"
   ]
  },
  {
   "cell_type": "code",
   "execution_count": 37,
   "metadata": {},
   "outputs": [],
   "source": [
    "# build the model\n",
    "model = regression_model()"
   ]
  },
  {
   "cell_type": "code",
   "execution_count": 38,
   "metadata": {},
   "outputs": [
    {
     "name": "stdout",
     "output_type": "stream",
     "text": [
      "Epoch 1/50\n",
      "23/23 - 0s - loss: 1484.3304 - mean_squared_error: 1484.3304\n",
      "Epoch 2/50\n",
      "23/23 - 0s - loss: 1465.1829 - mean_squared_error: 1465.1829\n",
      "Epoch 3/50\n",
      "23/23 - 0s - loss: 1445.5861 - mean_squared_error: 1445.5861\n",
      "Epoch 4/50\n",
      "23/23 - 0s - loss: 1425.7384 - mean_squared_error: 1425.7384\n",
      "Epoch 5/50\n",
      "23/23 - 0s - loss: 1404.8132 - mean_squared_error: 1404.8132\n",
      "Epoch 6/50\n",
      "23/23 - 0s - loss: 1383.3954 - mean_squared_error: 1383.3954\n",
      "Epoch 7/50\n",
      "23/23 - 0s - loss: 1361.3472 - mean_squared_error: 1361.3472\n",
      "Epoch 8/50\n",
      "23/23 - 0s - loss: 1338.0769 - mean_squared_error: 1338.0769\n",
      "Epoch 9/50\n",
      "23/23 - 0s - loss: 1314.5583 - mean_squared_error: 1314.5583\n",
      "Epoch 10/50\n",
      "23/23 - 0s - loss: 1289.3688 - mean_squared_error: 1289.3688\n",
      "Epoch 11/50\n",
      "23/23 - 0s - loss: 1263.5142 - mean_squared_error: 1263.5142\n",
      "Epoch 12/50\n",
      "23/23 - 0s - loss: 1236.4352 - mean_squared_error: 1236.4352\n",
      "Epoch 13/50\n",
      "23/23 - 0s - loss: 1209.0970 - mean_squared_error: 1209.0970\n",
      "Epoch 14/50\n",
      "23/23 - 0s - loss: 1180.3140 - mean_squared_error: 1180.3140\n",
      "Epoch 15/50\n",
      "23/23 - 0s - loss: 1150.9463 - mean_squared_error: 1150.9462\n",
      "Epoch 16/50\n",
      "23/23 - 0s - loss: 1121.0127 - mean_squared_error: 1121.0127\n",
      "Epoch 17/50\n",
      "23/23 - 0s - loss: 1089.7622 - mean_squared_error: 1089.7622\n",
      "Epoch 18/50\n",
      "23/23 - 0s - loss: 1058.6357 - mean_squared_error: 1058.6357\n",
      "Epoch 19/50\n",
      "23/23 - 0s - loss: 1026.3947 - mean_squared_error: 1026.3947\n",
      "Epoch 20/50\n",
      "23/23 - 0s - loss: 994.3325 - mean_squared_error: 994.3325\n",
      "Epoch 21/50\n",
      "23/23 - 0s - loss: 961.8463 - mean_squared_error: 961.8463\n",
      "Epoch 22/50\n",
      "23/23 - 0s - loss: 929.3280 - mean_squared_error: 929.3280\n",
      "Epoch 23/50\n",
      "23/23 - 0s - loss: 896.8235 - mean_squared_error: 896.8235\n",
      "Epoch 24/50\n",
      "23/23 - 0s - loss: 864.2584 - mean_squared_error: 864.2584\n",
      "Epoch 25/50\n",
      "23/23 - 0s - loss: 832.7121 - mean_squared_error: 832.7121\n",
      "Epoch 26/50\n",
      "23/23 - 0s - loss: 800.7963 - mean_squared_error: 800.7963\n",
      "Epoch 27/50\n",
      "23/23 - 0s - loss: 770.0740 - mean_squared_error: 770.0740\n",
      "Epoch 28/50\n",
      "23/23 - 0s - loss: 739.3752 - mean_squared_error: 739.3752\n",
      "Epoch 29/50\n",
      "23/23 - 0s - loss: 709.2794 - mean_squared_error: 709.2794\n",
      "Epoch 30/50\n",
      "23/23 - 0s - loss: 680.3094 - mean_squared_error: 680.3094\n",
      "Epoch 31/50\n",
      "23/23 - 0s - loss: 651.8688 - mean_squared_error: 651.8688\n",
      "Epoch 32/50\n",
      "23/23 - 0s - loss: 624.4718 - mean_squared_error: 624.4718\n",
      "Epoch 33/50\n",
      "23/23 - 0s - loss: 598.0545 - mean_squared_error: 598.0545\n",
      "Epoch 34/50\n",
      "23/23 - 0s - loss: 572.4900 - mean_squared_error: 572.4900\n",
      "Epoch 35/50\n",
      "23/23 - 0s - loss: 547.7343 - mean_squared_error: 547.7343\n",
      "Epoch 36/50\n",
      "23/23 - 0s - loss: 524.0792 - mean_squared_error: 524.0792\n",
      "Epoch 37/50\n",
      "23/23 - 0s - loss: 501.6278 - mean_squared_error: 501.6278\n",
      "Epoch 38/50\n",
      "23/23 - 0s - loss: 480.2025 - mean_squared_error: 480.2025\n",
      "Epoch 39/50\n",
      "23/23 - 0s - loss: 459.7556 - mean_squared_error: 459.7556\n",
      "Epoch 40/50\n",
      "23/23 - 0s - loss: 440.3457 - mean_squared_error: 440.3457\n",
      "Epoch 41/50\n",
      "23/23 - 0s - loss: 421.9929 - mean_squared_error: 421.9929\n",
      "Epoch 42/50\n",
      "23/23 - 0s - loss: 404.4956 - mean_squared_error: 404.4956\n",
      "Epoch 43/50\n",
      "23/23 - 0s - loss: 388.5936 - mean_squared_error: 388.5936\n",
      "Epoch 44/50\n",
      "23/23 - 0s - loss: 373.0071 - mean_squared_error: 373.0071\n",
      "Epoch 45/50\n",
      "23/23 - 0s - loss: 358.6833 - mean_squared_error: 358.6833\n",
      "Epoch 46/50\n",
      "23/23 - 0s - loss: 345.3810 - mean_squared_error: 345.3810\n",
      "Epoch 47/50\n",
      "23/23 - 0s - loss: 332.7706 - mean_squared_error: 332.7706\n",
      "Epoch 48/50\n",
      "23/23 - 0s - loss: 321.2062 - mean_squared_error: 321.2062\n",
      "Epoch 49/50\n",
      "23/23 - 0s - loss: 309.9630 - mean_squared_error: 309.9630\n",
      "Epoch 50/50\n",
      "23/23 - 0s - loss: 299.7021 - mean_squared_error: 299.7021\n"
     ]
    },
    {
     "data": {
      "text/plain": [
       "<tensorflow.python.keras.callbacks.History at 0x19cf0068af0>"
      ]
     },
     "execution_count": 38,
     "metadata": {},
     "output_type": "execute_result"
    }
   ],
   "source": [
    "# fit the model using data train\n",
    "model.fit(X_train, y_train, epochs=50, verbose=2)\n",
    "\n"
   ]
  },
  {
   "cell_type": "code",
   "execution_count": 39,
   "metadata": {
    "scrolled": true
   },
   "outputs": [
    {
     "name": "stdout",
     "output_type": "stream",
     "text": [
      "MSE: 324.78839111328125\n"
     ]
    }
   ],
   "source": [
    "# evaluate the model using data test\n",
    "scores = model.evaluate(X_test, y_test, verbose=0)\n",
    "print(\"MSE: {}\".format(scores[0]))"
   ]
  },
  {
   "cell_type": "code",
   "execution_count": 40,
   "metadata": {},
   "outputs": [
    {
     "name": "stdout",
     "output_type": "stream",
     "text": [
      "MSE: 324.7883935369407\n"
     ]
    }
   ],
   "source": [
    "# evaluate the model using data test with sklearn \n",
    "from sklearn.metrics import mean_squared_error\n",
    "y_pred= model.predict(X_test)\n",
    "\n",
    "print(\"MSE: {}\".format(mean_squared_error(y_test, y_pred)))"
   ]
  },
  {
   "cell_type": "code",
   "execution_count": 41,
   "metadata": {},
   "outputs": [
    {
     "name": "stdout",
     "output_type": "stream",
     "text": [
      "10/10 [==============================] - 0s 2ms/step - loss: 121.7248 - mean_squared_error: 121.7248\n",
      "10/10 [==============================] - 0s 1ms/step - loss: 165.8405 - mean_squared_error: 165.8405\n",
      "10/10 [==============================] - 0s 800us/step - loss: 451.1979 - mean_squared_error: 451.1979\n",
      "10/10 [==============================] - 0s 692us/step - loss: 1521.0200 - mean_squared_error: 1521.0200\n",
      "10/10 [==============================] - 0s 2ms/step - loss: 187.5897 - mean_squared_error: 187.5897\n",
      "10/10 [==============================] - 0s 770us/step - loss: 141.9565 - mean_squared_error: 141.9565\n",
      "10/10 [==============================] - 0s 1ms/step - loss: 227.9999 - mean_squared_error: 227.9999\n",
      "10/10 [==============================] - 0s 667us/step - loss: 377.2691 - mean_squared_error: 377.2691\n",
      "10/10 [==============================] - 0s 2ms/step - loss: 134.2087 - mean_squared_error: 134.2087\n",
      "10/10 [==============================] - 0s 846us/step - loss: 270.7204 - mean_squared_error: 270.7204\n",
      "10/10 [==============================] - 0s 1ms/step - loss: 112.9732 - mean_squared_error: 112.9732\n",
      "10/10 [==============================] - 0s 1ms/step - loss: 357.1432 - mean_squared_error: 357.1432\n",
      "10/10 [==============================] - 0s 2ms/step - loss: 882.8905 - mean_squared_error: 882.8905\n",
      "10/10 [==============================] - 0s 875us/step - loss: 477.6282 - mean_squared_error: 477.6282\n",
      "10/10 [==============================] - 0s 2ms/step - loss: 137.0506 - mean_squared_error: 137.0506\n",
      "10/10 [==============================] - 0s 667us/step - loss: 480.0299 - mean_squared_error: 480.0299\n",
      "10/10 [==============================] - 0s 1ms/step - loss: 224.4555 - mean_squared_error: 224.4555\n",
      "10/10 [==============================] - 0s 776us/step - loss: 131.5685 - mean_squared_error: 131.5685\n",
      "10/10 [==============================] - 0s 555us/step - loss: 154.4306 - mean_squared_error: 154.4306\n",
      "10/10 [==============================] - 0s 760us/step - loss: 102.9192 - mean_squared_error: 102.9192\n",
      "10/10 [==============================] - 0s 2ms/step - loss: 250.2478 - mean_squared_error: 250.2478\n",
      "10/10 [==============================] - 0s 2ms/step - loss: 1056.7578 - mean_squared_error: 1056.7578\n",
      "10/10 [==============================] - 0s 2ms/step - loss: 118.8060 - mean_squared_error: 118.8060\n",
      "10/10 [==============================] - 0s 1ms/step - loss: 100.2407 - mean_squared_error: 100.2407\n",
      "10/10 [==============================] - 0s 1ms/step - loss: 118.3151 - mean_squared_error: 118.3151\n",
      "10/10 [==============================] - 0s 2ms/step - loss: 245.6480 - mean_squared_error: 245.6480\n",
      "10/10 [==============================] - 0s 2ms/step - loss: 194.2281 - mean_squared_error: 194.2281\n",
      "10/10 [==============================] - 0s 1ms/step - loss: 131.6642 - mean_squared_error: 131.6642\n",
      "10/10 [==============================] - 0s 778us/step - loss: 100.1723 - mean_squared_error: 100.1723\n",
      "10/10 [==============================] - 0s 2ms/step - loss: 804.9218 - mean_squared_error: 804.9218\n",
      "10/10 [==============================] - 0s 1ms/step - loss: 208.0367 - mean_squared_error: 208.0367\n",
      "10/10 [==============================] - 0s 545us/step - loss: 190.0179 - mean_squared_error: 190.0179\n",
      "10/10 [==============================] - 0s 2ms/step - loss: 136.7993 - mean_squared_error: 136.7993\n",
      "10/10 [==============================] - 0s 2ms/step - loss: 204.5620 - mean_squared_error: 204.5620\n",
      "10/10 [==============================] - 0s 1ms/step - loss: 214.0707 - mean_squared_error: 214.0707\n",
      "10/10 [==============================] - 0s 922us/step - loss: 203.5954 - mean_squared_error: 203.5954\n",
      "10/10 [==============================] - 0s 1ms/step - loss: 333.0157 - mean_squared_error: 333.0157\n",
      "10/10 [==============================] - 0s 2ms/step - loss: 139.3785 - mean_squared_error: 139.3785\n",
      "10/10 [==============================] - 0s 1ms/step - loss: 126.0443 - mean_squared_error: 126.0443\n",
      "10/10 [==============================] - 0s 806us/step - loss: 112.3959 - mean_squared_error: 112.3959\n",
      "10/10 [==============================] - 0s 1ms/step - loss: 130.3865 - mean_squared_error: 130.3865\n",
      "10/10 [==============================] - 0s 2ms/step - loss: 112.9416 - mean_squared_error: 112.9416\n",
      "10/10 [==============================] - 0s 1ms/step - loss: 132.3749 - mean_squared_error: 132.3749\n",
      "10/10 [==============================] - 0s 2ms/step - loss: 138.0760 - mean_squared_error: 138.0760\n",
      "10/10 [==============================] - 0s 2ms/step - loss: 103.1652 - mean_squared_error: 103.1652\n",
      "10/10 [==============================] - 0s 1ms/step - loss: 291.4019 - mean_squared_error: 291.4019\n",
      "10/10 [==============================] - 0s 2ms/step - loss: 228.4636 - mean_squared_error: 228.4636\n",
      "10/10 [==============================] - 0s 783us/step - loss: 261.7300 - mean_squared_error: 261.7300\n",
      "10/10 [==============================] - 0s 2ms/step - loss: 213.9943 - mean_squared_error: 213.9943\n"
     ]
    }
   ],
   "source": [
    "#Repeat steps 1 - 3, 50 times, i.e., create a list of 50 mean squared errors.\n",
    "MSE_scores=[]\n",
    "\n",
    "for i in range(1,50):\n",
    "        X_train, X_test, y_train, y_test = train_test_split(predictors, target, test_size=0.3) #split data\n",
    "        model = regression_model()\n",
    "        model.fit(X_train, y_train, epochs=50, verbose=0) #train model on training data using 50 epoc\n",
    "        scores = model.evaluate(X_test, y_test, verbose=1)\n",
    "        MSE_scores.append(scores[0])\n",
    "\n",
    "\n",
    "\n"
   ]
  },
  {
   "cell_type": "code",
   "execution_count": 42,
   "metadata": {
    "scrolled": true
   },
   "outputs": [
    {
     "name": "stdout",
     "output_type": "stream",
     "text": [
      "mean_MSE: 270.6544701712472 \n",
      " STD_MSE: 267.8533848310198\n"
     ]
    }
   ],
   "source": [
    "mean_MSE=np.mean(MSE_scores)\n",
    "STD_MSE=np.std(MSE_scores)\n",
    "\n",
    "#Report the mean and the standard deviation of the mean squared errors.\n",
    "print('mean_MSE: {} \\n STD_MSE: {}'.format(mean_MSE, STD_MSE))\n",
    "        "
   ]
  },
  {
   "cell_type": "markdown",
   "metadata": {},
   "source": [
    "How does the mean of the mean squared errors compare to that from Step A?\n",
    "\n",
    "In this run, mean and STD were decreased.\n",
    "\n"
   ]
  }
 ],
 "metadata": {
  "kernelspec": {
   "display_name": "Python 3",
   "language": "python",
   "name": "python3"
  },
  "language_info": {
   "codemirror_mode": {
    "name": "ipython",
    "version": 3
   },
   "file_extension": ".py",
   "mimetype": "text/x-python",
   "name": "python",
   "nbconvert_exporter": "python",
   "pygments_lexer": "ipython3",
   "version": "3.8.5"
  }
 },
 "nbformat": 4,
 "nbformat_minor": 4
}
